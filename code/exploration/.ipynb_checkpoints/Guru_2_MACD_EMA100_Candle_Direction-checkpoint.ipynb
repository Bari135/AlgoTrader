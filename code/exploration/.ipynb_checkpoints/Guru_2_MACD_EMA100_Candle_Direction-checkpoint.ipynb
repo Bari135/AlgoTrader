{
 "cells": [
  {
   "cell_type": "code",
   "execution_count": null,
   "id": "d45bb3a8",
   "metadata": {},
   "outputs": [],
   "source": [
    "import sys\n",
    "sys.path.append(\"../\")"
   ]
  },
  {
   "cell_type": "code",
   "execution_count": null,
   "id": "2276616b",
   "metadata": {},
   "outputs": [],
   "source": [
    "import pandas as pd\n",
    "import datetime as dt\n",
    "from technicals.indicators import MACD\n",
    "from simulation.guru_tester import GuruTester"
   ]
  },
  {
   "cell_type": "code",
   "execution_count": null,
   "id": "a0d4271d",
   "metadata": {},
   "outputs": [],
   "source": [
    "BUY = 1\n",
    "SELL = -1\n",
    "NONE = 0\n",
    "\n",
    "def apply_signal(row):\n",
    "    if row.direction == BUY and row.mid_l > row.EMA_100 and row.candle_dir == BUY:\n",
    "        return BUY\n",
    "    if row.direction == SELL and row.mid_h < row.EMA_100 and row.candle_dir == SELL:\n",
    "        return SELL\n",
    "    return NONE        "
   ]
  },
  {
   "cell_type": "code",
   "execution_count": null,
   "id": "bee28318",
   "metadata": {},
   "outputs": [],
   "source": [
    "pair = \"EUR_USD\"\n",
    "df_an = pd.read_pickle(f\"../data/{pair}_H1.pkl\")\n",
    "df_m5 = pd.read_pickle(f\"../data/{pair}_M5.pkl\")\n",
    "df_an.reset_index(drop=True, inplace=True)\n",
    "df_m5.reset_index(drop=True, inplace=True)"
   ]
  },
  {
   "cell_type": "code",
   "execution_count": null,
   "id": "5cb3d8ff",
   "metadata": {},
   "outputs": [],
   "source": [
    "df_an = MACD(df_an)\n",
    "df_an['EMA_100'] = df_an.mid_c.ewm(span=100, min_periods=100).mean()\n",
    "df_an.dropna(inplace=True)\n",
    "df_an.reset_index(drop=True, inplace=True)"
   ]
  },
  {
   "cell_type": "code",
   "execution_count": null,
   "id": "73107dd0",
   "metadata": {},
   "outputs": [],
   "source": [
    "def apply_cross(row):\n",
    "    if row.macd_delta > 0  and row.macd_delta_prev < 0:\n",
    "        return BUY\n",
    "    if row.macd_delta < 0  and row.macd_delta_prev > 0:\n",
    "        return SELL\n",
    "    return NONE"
   ]
  },
  {
   "cell_type": "code",
   "execution_count": null,
   "id": "a23c78d5",
   "metadata": {},
   "outputs": [],
   "source": [
    "df_an['macd_delta'] = df_an.MACD - df_an.SIGNAL\n",
    "df_an['macd_delta_prev'] = df_an.macd_delta.shift(1)\n",
    "df_an['direction'] = df_an.apply(apply_cross, axis=1)\n",
    "\n",
    "candle_dir = df_an.mid_c - df_an.mid_o\n",
    "df_an['candle_dir'] = [BUY if x >= 0 else SELL for x in candle_dir]"
   ]
  },
  {
   "cell_type": "code",
   "execution_count": null,
   "id": "c3de9109",
   "metadata": {},
   "outputs": [],
   "source": [
    "df_an.direction.value_counts()"
   ]
  },
  {
   "cell_type": "code",
   "execution_count": null,
   "id": "fe8150da",
   "metadata": {},
   "outputs": [],
   "source": [
    "df_an.head()"
   ]
  },
  {
   "cell_type": "code",
   "execution_count": null,
   "id": "314355c3",
   "metadata": {},
   "outputs": [],
   "source": [
    "def run_pair(pair, time_d=1):\n",
    "    df_an = pd.read_pickle(f\"../data/{pair}_H{time_d}.pkl\")\n",
    "    df_m5 = pd.read_pickle(f\"../data/{pair}_M5.pkl\")\n",
    "    df_an.reset_index(drop=True, inplace=True)\n",
    "    df_m5.reset_index(drop=True, inplace=True)\n",
    "    df_an = MACD(df_an)\n",
    "    df_an['EMA_100'] = df_an.mid_c.ewm(span=100, min_periods=100).mean()\n",
    "    \n",
    "    df_an['macd_delta'] = df_an.MACD - df_an.SIGNAL\n",
    "    df_an['macd_delta_prev'] = df_an.macd_delta.shift(1)\n",
    "    df_an['direction'] = df_an.apply(apply_cross, axis=1)\n",
    "    candle_dir = df_an.mid_c - df_an.mid_o\n",
    "    df_an['candle_dir'] = [1 if x >= 0 else -1 for x in candle_dir]\n",
    "    \n",
    "    our_cols = ['time', 'mid_o', 'mid_h', 'mid_l', 'mid_c',\n",
    "            'bid_o', 'bid_h', 'bid_l', 'bid_c', \n",
    "            'ask_o', 'ask_h', 'ask_l', 'ask_c',\n",
    "             'direction', 'candle_dir', 'EMA_100' ]\n",
    "    df_slim = df_an[our_cols].copy()\n",
    "    df_slim.dropna(inplace=True)\n",
    "    \n",
    "    df_slim.reset_index(drop=True, inplace=True)\n",
    "    gt = GuruTester(\n",
    "        df_slim,\n",
    "        apply_signal,\n",
    "        df_m5,\n",
    "        use_spread=True,\n",
    "        time_d=time_d\n",
    "    )\n",
    "    \n",
    "    gt.run_test()\n",
    "    return gt.df_results\n",
    "    "
   ]
  },
  {
   "cell_type": "code",
   "execution_count": null,
   "id": "c66cb656",
   "metadata": {},
   "outputs": [],
   "source": []
  },
  {
   "cell_type": "code",
   "execution_count": null,
   "id": "36fab442",
   "metadata": {},
   "outputs": [],
   "source": [
    "res = []\n",
    "for p in [\"AUD_NZD\", \"EUR_USD\", \"GBP_JPY\", \"USD_CAD\" ]:\n",
    "    res.append(dict(pair=p,res=run_pair(p, time_d=1)))"
   ]
  },
  {
   "cell_type": "code",
   "execution_count": null,
   "id": "d9b1f5f0",
   "metadata": {},
   "outputs": [],
   "source": [
    "for r in res:\n",
    "    print(r['pair'], r['res'].result.sum())"
   ]
  },
  {
   "cell_type": "code",
   "execution_count": null,
   "id": "990d4bde",
   "metadata": {},
   "outputs": [],
   "source": [
    "res = []\n",
    "for p in [\"AUD_NZD\", \"EUR_USD\", \"GBP_JPY\", \"USD_CAD\" ]:\n",
    "    res.append(dict(pair=p,res=run_pair(p, time_d=4)))\n",
    "for r in res:\n",
    "    print(r['pair'], r['res'].result.sum())"
   ]
  },
  {
   "cell_type": "code",
   "execution_count": null,
   "id": "3f968cf3",
   "metadata": {},
   "outputs": [],
   "source": []
  },
  {
   "cell_type": "code",
   "execution_count": null,
   "id": "a211c19c",
   "metadata": {},
   "outputs": [],
   "source": []
  }
 ],
 "metadata": {
  "kernelspec": {
   "display_name": "Python 3 (ipykernel)",
   "language": "python",
   "name": "python3"
  },
  "language_info": {
   "codemirror_mode": {
    "name": "ipython",
    "version": 3
   },
   "file_extension": ".py",
   "mimetype": "text/x-python",
   "name": "python",
   "nbconvert_exporter": "python",
   "pygments_lexer": "ipython3",
   "version": "3.9.6"
  }
 },
 "nbformat": 4,
 "nbformat_minor": 5
}
