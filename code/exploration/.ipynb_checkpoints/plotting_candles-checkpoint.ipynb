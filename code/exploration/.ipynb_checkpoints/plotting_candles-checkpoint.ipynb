{
 "cells": [
  {
   "cell_type": "code",
   "execution_count": 2,
   "id": "0edaba74-26a0-4eb5-ac71-fda9075bd5f4",
   "metadata": {},
   "outputs": [],
   "source": [
    "import pandas as pd\n",
    "import plotly.graph_objects as go\n",
    "import datetime as dt"
   ]
  },
  {
   "cell_type": "code",
   "execution_count": 3,
   "id": "0f260d3b-bd5e-4732-840d-1b5405aec95d",
   "metadata": {},
   "outputs": [],
   "source": [
    "pair = \"EUR_USD\"\n",
    "granularity = \"H4\"   #נר של 4 שעות\n",
    "df = pd.read_pickle(f\"../data/{pair}_{granularity}.pkl\")"
   ]
  },
  {
   "cell_type": "code",
   "execution_count": 4,
   "id": "8074b17a-51fe-43d7-847e-90ef5dfcca2f",
   "metadata": {},
   "outputs": [
    {
     "data": {
      "text/html": [
       "<div>\n",
       "<style scoped>\n",
       "    .dataframe tbody tr th:only-of-type {\n",
       "        vertical-align: middle;\n",
       "    }\n",
       "\n",
       "    .dataframe tbody tr th {\n",
       "        vertical-align: top;\n",
       "    }\n",
       "\n",
       "    .dataframe thead th {\n",
       "        text-align: right;\n",
       "    }\n",
       "</style>\n",
       "<table border=\"1\" class=\"dataframe\">\n",
       "  <thead>\n",
       "    <tr style=\"text-align: right;\">\n",
       "      <th></th>\n",
       "      <th>time</th>\n",
       "      <th>volume</th>\n",
       "      <th>mid_o</th>\n",
       "      <th>mid_h</th>\n",
       "      <th>mid_l</th>\n",
       "      <th>mid_c</th>\n",
       "      <th>bid_o</th>\n",
       "      <th>bid_h</th>\n",
       "      <th>bid_l</th>\n",
       "      <th>bid_c</th>\n",
       "      <th>ask_o</th>\n",
       "      <th>ask_h</th>\n",
       "      <th>ask_l</th>\n",
       "      <th>ask_c</th>\n",
       "    </tr>\n",
       "  </thead>\n",
       "  <tbody>\n",
       "    <tr>\n",
       "      <th>3995</th>\n",
       "      <td>2023-08-16 10:00:00+00:00</td>\n",
       "      <td>3739</td>\n",
       "      <td>1.09266</td>\n",
       "      <td>1.09270</td>\n",
       "      <td>1.09159</td>\n",
       "      <td>1.09183</td>\n",
       "      <td>1.09258</td>\n",
       "      <td>1.09262</td>\n",
       "      <td>1.09151</td>\n",
       "      <td>1.09175</td>\n",
       "      <td>1.09274</td>\n",
       "      <td>1.09277</td>\n",
       "      <td>1.09167</td>\n",
       "      <td>1.09191</td>\n",
       "    </tr>\n",
       "    <tr>\n",
       "      <th>3996</th>\n",
       "      <td>2023-08-16 11:00:00+00:00</td>\n",
       "      <td>3967</td>\n",
       "      <td>1.09184</td>\n",
       "      <td>1.09196</td>\n",
       "      <td>1.09066</td>\n",
       "      <td>1.09132</td>\n",
       "      <td>1.09175</td>\n",
       "      <td>1.09188</td>\n",
       "      <td>1.09058</td>\n",
       "      <td>1.09125</td>\n",
       "      <td>1.09192</td>\n",
       "      <td>1.09204</td>\n",
       "      <td>1.09074</td>\n",
       "      <td>1.09139</td>\n",
       "    </tr>\n",
       "    <tr>\n",
       "      <th>3997</th>\n",
       "      <td>2023-08-16 12:00:00+00:00</td>\n",
       "      <td>6258</td>\n",
       "      <td>1.09131</td>\n",
       "      <td>1.09182</td>\n",
       "      <td>1.09024</td>\n",
       "      <td>1.09024</td>\n",
       "      <td>1.09124</td>\n",
       "      <td>1.09175</td>\n",
       "      <td>1.09016</td>\n",
       "      <td>1.09016</td>\n",
       "      <td>1.09138</td>\n",
       "      <td>1.09190</td>\n",
       "      <td>1.09031</td>\n",
       "      <td>1.09031</td>\n",
       "    </tr>\n",
       "    <tr>\n",
       "      <th>3998</th>\n",
       "      <td>2023-08-16 13:00:00+00:00</td>\n",
       "      <td>9374</td>\n",
       "      <td>1.09021</td>\n",
       "      <td>1.09234</td>\n",
       "      <td>1.08960</td>\n",
       "      <td>1.09088</td>\n",
       "      <td>1.09014</td>\n",
       "      <td>1.09226</td>\n",
       "      <td>1.08953</td>\n",
       "      <td>1.09080</td>\n",
       "      <td>1.09028</td>\n",
       "      <td>1.09241</td>\n",
       "      <td>1.08967</td>\n",
       "      <td>1.09096</td>\n",
       "    </tr>\n",
       "    <tr>\n",
       "      <th>3999</th>\n",
       "      <td>2023-08-16 14:00:00+00:00</td>\n",
       "      <td>8467</td>\n",
       "      <td>1.09086</td>\n",
       "      <td>1.09235</td>\n",
       "      <td>1.08963</td>\n",
       "      <td>1.09068</td>\n",
       "      <td>1.09078</td>\n",
       "      <td>1.09227</td>\n",
       "      <td>1.08955</td>\n",
       "      <td>1.09061</td>\n",
       "      <td>1.09094</td>\n",
       "      <td>1.09244</td>\n",
       "      <td>1.08971</td>\n",
       "      <td>1.09075</td>\n",
       "    </tr>\n",
       "  </tbody>\n",
       "</table>\n",
       "</div>"
      ],
      "text/plain": [
       "                          time  volume    mid_o    mid_h    mid_l    mid_c  \\\n",
       "3995 2023-08-16 10:00:00+00:00    3739  1.09266  1.09270  1.09159  1.09183   \n",
       "3996 2023-08-16 11:00:00+00:00    3967  1.09184  1.09196  1.09066  1.09132   \n",
       "3997 2023-08-16 12:00:00+00:00    6258  1.09131  1.09182  1.09024  1.09024   \n",
       "3998 2023-08-16 13:00:00+00:00    9374  1.09021  1.09234  1.08960  1.09088   \n",
       "3999 2023-08-16 14:00:00+00:00    8467  1.09086  1.09235  1.08963  1.09068   \n",
       "\n",
       "        bid_o    bid_h    bid_l    bid_c    ask_o    ask_h    ask_l    ask_c  \n",
       "3995  1.09258  1.09262  1.09151  1.09175  1.09274  1.09277  1.09167  1.09191  \n",
       "3996  1.09175  1.09188  1.09058  1.09125  1.09192  1.09204  1.09074  1.09139  \n",
       "3997  1.09124  1.09175  1.09016  1.09016  1.09138  1.09190  1.09031  1.09031  \n",
       "3998  1.09014  1.09226  1.08953  1.09080  1.09028  1.09241  1.08967  1.09096  \n",
       "3999  1.09078  1.09227  1.08955  1.09061  1.09094  1.09244  1.08971  1.09075  "
      ]
     },
     "execution_count": 4,
     "metadata": {},
     "output_type": "execute_result"
    }
   ],
   "source": [
    "df.tail()  ## 5 שורות אחרונות"
   ]
  },
  {
   "cell_type": "code",
   "execution_count": 7,
   "id": "93a4214d-9143-4bd7-9d09-77f941f6acf5",
   "metadata": {},
   "outputs": [],
   "source": [
    "df_plot = df.iloc[0:100] # the first 100"
   ]
  },
  {
   "cell_type": "code",
   "execution_count": 8,
   "id": "646eccc0-808f-434a-9dbc-5c17e65eb799",
   "metadata": {},
   "outputs": [
    {
     "data": {
      "application/vnd.plotly.v1+json": {
       "config": {
        "plotlyServerURL": "https://plot.ly"
       },
       "data": [
        {
         "close": [
          1.064,
          1.06427,
          1.0652,
          1.06475,
          1.06402,
          1.06457,
          1.06556,
          1.0664,
          1.06456,
          1.06518,
          1.06606,
          1.06658,
          1.06546,
          1.06353,
          1.06276,
          1.06262,
          1.06499,
          1.06529,
          1.06376,
          1.06488,
          1.06416,
          1.06412,
          1.0638,
          1.06422,
          1.06372,
          1.06284,
          1.06422,
          1.06367,
          1.06378,
          1.06418,
          1.0646,
          1.06463,
          1.06457,
          1.0636,
          1.06372,
          1.0634,
          1.06466,
          1.06462,
          1.06417,
          1.06574,
          1.06192,
          1.06214,
          1.06292,
          1.062,
          1.06172,
          1.06082,
          1.06122,
          1.06162,
          1.0629,
          1.06341,
          1.06282,
          1.06256,
          1.06233,
          1.06254,
          1.06249,
          1.06142,
          1.06234,
          1.06303,
          1.06563,
          1.06362,
          1.06382,
          1.06525,
          1.0655,
          1.06447,
          1.0667,
          1.06662,
          1.0682,
          1.06749,
          1.0678,
          1.0668,
          1.0661,
          1.0661,
          1.06604,
          1.06683,
          1.06606,
          1.06588,
          1.06592,
          1.06553,
          1.06434,
          1.06446,
          1.06512,
          1.06712,
          1.06548,
          1.06698,
          1.06762,
          1.06723,
          1.06688,
          1.06884,
          1.06722,
          1.06968,
          1.07113,
          1.07024,
          1.06999,
          1.07055,
          1.07039,
          1.07057,
          1.07072,
          1.06985,
          1.06951,
          1.06958
         ],
         "high": [
          1.06458,
          1.06462,
          1.06536,
          1.06606,
          1.06478,
          1.0646,
          1.06573,
          1.0665,
          1.0668,
          1.0658,
          1.0664,
          1.06696,
          1.06692,
          1.06576,
          1.0637,
          1.06297,
          1.06546,
          1.06604,
          1.06532,
          1.06515,
          1.06566,
          1.06469,
          1.06416,
          1.06454,
          1.06421,
          1.06429,
          1.06432,
          1.06422,
          1.06424,
          1.06449,
          1.0647,
          1.06526,
          1.06548,
          1.06481,
          1.064,
          1.06433,
          1.06522,
          1.06577,
          1.06499,
          1.06746,
          1.06619,
          1.06275,
          1.0633,
          1.06358,
          1.06276,
          1.06178,
          1.06132,
          1.06166,
          1.06293,
          1.06374,
          1.06342,
          1.0633,
          1.0628,
          1.06262,
          1.06291,
          1.0627,
          1.0625,
          1.06428,
          1.06582,
          1.06565,
          1.0641,
          1.06534,
          1.06672,
          1.06702,
          1.06698,
          1.0671,
          1.06906,
          1.06834,
          1.06794,
          1.0678,
          1.06715,
          1.0664,
          1.0662,
          1.06684,
          1.06698,
          1.06606,
          1.06633,
          1.06596,
          1.0658,
          1.06505,
          1.06514,
          1.06747,
          1.06714,
          1.06762,
          1.0699,
          1.0688,
          1.06804,
          1.07012,
          1.06896,
          1.06972,
          1.07116,
          1.07133,
          1.07095,
          1.07084,
          1.07076,
          1.07062,
          1.07089,
          1.0709,
          1.06985,
          1.07034
         ],
         "low": [
          1.06312,
          1.06348,
          1.06415,
          1.06434,
          1.06356,
          1.06392,
          1.06428,
          1.06532,
          1.06436,
          1.06384,
          1.06481,
          1.06518,
          1.06526,
          1.06322,
          1.06196,
          1.06115,
          1.06242,
          1.06462,
          1.06337,
          1.06358,
          1.06376,
          1.06385,
          1.06364,
          1.064,
          1.06308,
          1.0625,
          1.06272,
          1.06354,
          1.0632,
          1.06362,
          1.06406,
          1.06444,
          1.0644,
          1.06343,
          1.06278,
          1.06294,
          1.06314,
          1.06368,
          1.06338,
          1.06394,
          1.06115,
          1.0613,
          1.0616,
          1.062,
          1.06148,
          1.06081,
          1.06067,
          1.06097,
          1.06158,
          1.06234,
          1.0627,
          1.06256,
          1.062,
          1.06192,
          1.06214,
          1.06112,
          1.06122,
          1.06225,
          1.06307,
          1.06316,
          1.06327,
          1.06366,
          1.06451,
          1.06391,
          1.06365,
          1.0657,
          1.06647,
          1.06712,
          1.06735,
          1.06657,
          1.06602,
          1.06598,
          1.06544,
          1.06592,
          1.06572,
          1.0655,
          1.06573,
          1.06516,
          1.06423,
          1.06406,
          1.06386,
          1.06499,
          1.06515,
          1.06534,
          1.06696,
          1.06716,
          1.06454,
          1.06616,
          1.06594,
          1.06712,
          1.06964,
          1.07005,
          1.06952,
          1.06923,
          1.06974,
          1.06962,
          1.06937,
          1.0694,
          1.069,
          1.06924
         ],
         "open": [
          1.06378,
          1.064,
          1.0643,
          1.0652,
          1.06476,
          1.064,
          1.06458,
          1.0656,
          1.0664,
          1.06455,
          1.0652,
          1.06606,
          1.06656,
          1.06544,
          1.0636,
          1.06275,
          1.0626,
          1.06497,
          1.06529,
          1.06375,
          1.06487,
          1.06414,
          1.06413,
          1.06408,
          1.0642,
          1.06372,
          1.06284,
          1.06422,
          1.06368,
          1.06378,
          1.06417,
          1.06462,
          1.06462,
          1.06457,
          1.06362,
          1.06372,
          1.06338,
          1.06467,
          1.06461,
          1.06416,
          1.06575,
          1.06194,
          1.06214,
          1.06292,
          1.06201,
          1.0617,
          1.06078,
          1.0612,
          1.06162,
          1.06287,
          1.06342,
          1.06282,
          1.06256,
          1.06234,
          1.06252,
          1.0625,
          1.06136,
          1.0624,
          1.06307,
          1.06564,
          1.06362,
          1.06383,
          1.06526,
          1.06553,
          1.06446,
          1.0667,
          1.06664,
          1.0682,
          1.06748,
          1.0678,
          1.06684,
          1.06616,
          1.06616,
          1.06606,
          1.06682,
          1.06603,
          1.06582,
          1.06587,
          1.06552,
          1.06428,
          1.06446,
          1.06514,
          1.06711,
          1.06548,
          1.06697,
          1.0676,
          1.06719,
          1.06686,
          1.06884,
          1.06722,
          1.06966,
          1.07118,
          1.07026,
          1.06997,
          1.07054,
          1.06999,
          1.07048,
          1.07082,
          1.06981,
          1.06955
         ],
         "type": "candlestick",
         "x": [
          "2022-12-26T23:00:00+00:00",
          "2022-12-27T00:00:00+00:00",
          "2022-12-27T01:00:00+00:00",
          "2022-12-27T02:00:00+00:00",
          "2022-12-27T03:00:00+00:00",
          "2022-12-27T04:00:00+00:00",
          "2022-12-27T05:00:00+00:00",
          "2022-12-27T06:00:00+00:00",
          "2022-12-27T07:00:00+00:00",
          "2022-12-27T08:00:00+00:00",
          "2022-12-27T09:00:00+00:00",
          "2022-12-27T10:00:00+00:00",
          "2022-12-27T11:00:00+00:00",
          "2022-12-27T12:00:00+00:00",
          "2022-12-27T13:00:00+00:00",
          "2022-12-27T14:00:00+00:00",
          "2022-12-27T15:00:00+00:00",
          "2022-12-27T16:00:00+00:00",
          "2022-12-27T17:00:00+00:00",
          "2022-12-27T18:00:00+00:00",
          "2022-12-27T19:00:00+00:00",
          "2022-12-27T20:00:00+00:00",
          "2022-12-27T21:00:00+00:00",
          "2022-12-27T22:00:00+00:00",
          "2022-12-27T23:00:00+00:00",
          "2022-12-28T00:00:00+00:00",
          "2022-12-28T01:00:00+00:00",
          "2022-12-28T02:00:00+00:00",
          "2022-12-28T03:00:00+00:00",
          "2022-12-28T04:00:00+00:00",
          "2022-12-28T05:00:00+00:00",
          "2022-12-28T06:00:00+00:00",
          "2022-12-28T07:00:00+00:00",
          "2022-12-28T08:00:00+00:00",
          "2022-12-28T09:00:00+00:00",
          "2022-12-28T10:00:00+00:00",
          "2022-12-28T11:00:00+00:00",
          "2022-12-28T12:00:00+00:00",
          "2022-12-28T13:00:00+00:00",
          "2022-12-28T14:00:00+00:00",
          "2022-12-28T15:00:00+00:00",
          "2022-12-28T16:00:00+00:00",
          "2022-12-28T17:00:00+00:00",
          "2022-12-28T18:00:00+00:00",
          "2022-12-28T19:00:00+00:00",
          "2022-12-28T20:00:00+00:00",
          "2022-12-28T21:00:00+00:00",
          "2022-12-28T22:00:00+00:00",
          "2022-12-28T23:00:00+00:00",
          "2022-12-29T00:00:00+00:00",
          "2022-12-29T01:00:00+00:00",
          "2022-12-29T02:00:00+00:00",
          "2022-12-29T03:00:00+00:00",
          "2022-12-29T04:00:00+00:00",
          "2022-12-29T05:00:00+00:00",
          "2022-12-29T06:00:00+00:00",
          "2022-12-29T07:00:00+00:00",
          "2022-12-29T08:00:00+00:00",
          "2022-12-29T09:00:00+00:00",
          "2022-12-29T10:00:00+00:00",
          "2022-12-29T11:00:00+00:00",
          "2022-12-29T12:00:00+00:00",
          "2022-12-29T13:00:00+00:00",
          "2022-12-29T14:00:00+00:00",
          "2022-12-29T15:00:00+00:00",
          "2022-12-29T16:00:00+00:00",
          "2022-12-29T17:00:00+00:00",
          "2022-12-29T18:00:00+00:00",
          "2022-12-29T19:00:00+00:00",
          "2022-12-29T20:00:00+00:00",
          "2022-12-29T21:00:00+00:00",
          "2022-12-29T22:00:00+00:00",
          "2022-12-29T23:00:00+00:00",
          "2022-12-30T00:00:00+00:00",
          "2022-12-30T01:00:00+00:00",
          "2022-12-30T02:00:00+00:00",
          "2022-12-30T03:00:00+00:00",
          "2022-12-30T04:00:00+00:00",
          "2022-12-30T05:00:00+00:00",
          "2022-12-30T06:00:00+00:00",
          "2022-12-30T07:00:00+00:00",
          "2022-12-30T08:00:00+00:00",
          "2022-12-30T09:00:00+00:00",
          "2022-12-30T10:00:00+00:00",
          "2022-12-30T11:00:00+00:00",
          "2022-12-30T12:00:00+00:00",
          "2022-12-30T13:00:00+00:00",
          "2022-12-30T14:00:00+00:00",
          "2022-12-30T15:00:00+00:00",
          "2022-12-30T16:00:00+00:00",
          "2022-12-30T17:00:00+00:00",
          "2022-12-30T18:00:00+00:00",
          "2022-12-30T19:00:00+00:00",
          "2022-12-30T20:00:00+00:00",
          "2022-12-30T21:00:00+00:00",
          "2023-01-01T23:00:00+00:00",
          "2023-01-02T00:00:00+00:00",
          "2023-01-02T01:00:00+00:00",
          "2023-01-02T02:00:00+00:00",
          "2023-01-02T03:00:00+00:00"
         ]
        }
       ],
       "layout": {
        "autosize": true,
        "template": {
         "data": {
          "bar": [
           {
            "error_x": {
             "color": "#2a3f5f"
            },
            "error_y": {
             "color": "#2a3f5f"
            },
            "marker": {
             "line": {
              "color": "#E5ECF6",
              "width": 0.5
             },
             "pattern": {
              "fillmode": "overlay",
              "size": 10,
              "solidity": 0.2
             }
            },
            "type": "bar"
           }
          ],
          "barpolar": [
           {
            "marker": {
             "line": {
              "color": "#E5ECF6",
              "width": 0.5
             },
             "pattern": {
              "fillmode": "overlay",
              "size": 10,
              "solidity": 0.2
             }
            },
            "type": "barpolar"
           }
          ],
          "carpet": [
           {
            "aaxis": {
             "endlinecolor": "#2a3f5f",
             "gridcolor": "white",
             "linecolor": "white",
             "minorgridcolor": "white",
             "startlinecolor": "#2a3f5f"
            },
            "baxis": {
             "endlinecolor": "#2a3f5f",
             "gridcolor": "white",
             "linecolor": "white",
             "minorgridcolor": "white",
             "startlinecolor": "#2a3f5f"
            },
            "type": "carpet"
           }
          ],
          "choropleth": [
           {
            "colorbar": {
             "outlinewidth": 0,
             "ticks": ""
            },
            "type": "choropleth"
           }
          ],
          "contour": [
           {
            "colorbar": {
             "outlinewidth": 0,
             "ticks": ""
            },
            "colorscale": [
             [
              0,
              "#0d0887"
             ],
             [
              0.1111111111111111,
              "#46039f"
             ],
             [
              0.2222222222222222,
              "#7201a8"
             ],
             [
              0.3333333333333333,
              "#9c179e"
             ],
             [
              0.4444444444444444,
              "#bd3786"
             ],
             [
              0.5555555555555556,
              "#d8576b"
             ],
             [
              0.6666666666666666,
              "#ed7953"
             ],
             [
              0.7777777777777778,
              "#fb9f3a"
             ],
             [
              0.8888888888888888,
              "#fdca26"
             ],
             [
              1,
              "#f0f921"
             ]
            ],
            "type": "contour"
           }
          ],
          "contourcarpet": [
           {
            "colorbar": {
             "outlinewidth": 0,
             "ticks": ""
            },
            "type": "contourcarpet"
           }
          ],
          "heatmap": [
           {
            "colorbar": {
             "outlinewidth": 0,
             "ticks": ""
            },
            "colorscale": [
             [
              0,
              "#0d0887"
             ],
             [
              0.1111111111111111,
              "#46039f"
             ],
             [
              0.2222222222222222,
              "#7201a8"
             ],
             [
              0.3333333333333333,
              "#9c179e"
             ],
             [
              0.4444444444444444,
              "#bd3786"
             ],
             [
              0.5555555555555556,
              "#d8576b"
             ],
             [
              0.6666666666666666,
              "#ed7953"
             ],
             [
              0.7777777777777778,
              "#fb9f3a"
             ],
             [
              0.8888888888888888,
              "#fdca26"
             ],
             [
              1,
              "#f0f921"
             ]
            ],
            "type": "heatmap"
           }
          ],
          "heatmapgl": [
           {
            "colorbar": {
             "outlinewidth": 0,
             "ticks": ""
            },
            "colorscale": [
             [
              0,
              "#0d0887"
             ],
             [
              0.1111111111111111,
              "#46039f"
             ],
             [
              0.2222222222222222,
              "#7201a8"
             ],
             [
              0.3333333333333333,
              "#9c179e"
             ],
             [
              0.4444444444444444,
              "#bd3786"
             ],
             [
              0.5555555555555556,
              "#d8576b"
             ],
             [
              0.6666666666666666,
              "#ed7953"
             ],
             [
              0.7777777777777778,
              "#fb9f3a"
             ],
             [
              0.8888888888888888,
              "#fdca26"
             ],
             [
              1,
              "#f0f921"
             ]
            ],
            "type": "heatmapgl"
           }
          ],
          "histogram": [
           {
            "marker": {
             "pattern": {
              "fillmode": "overlay",
              "size": 10,
              "solidity": 0.2
             }
            },
            "type": "histogram"
           }
          ],
          "histogram2d": [
           {
            "colorbar": {
             "outlinewidth": 0,
             "ticks": ""
            },
            "colorscale": [
             [
              0,
              "#0d0887"
             ],
             [
              0.1111111111111111,
              "#46039f"
             ],
             [
              0.2222222222222222,
              "#7201a8"
             ],
             [
              0.3333333333333333,
              "#9c179e"
             ],
             [
              0.4444444444444444,
              "#bd3786"
             ],
             [
              0.5555555555555556,
              "#d8576b"
             ],
             [
              0.6666666666666666,
              "#ed7953"
             ],
             [
              0.7777777777777778,
              "#fb9f3a"
             ],
             [
              0.8888888888888888,
              "#fdca26"
             ],
             [
              1,
              "#f0f921"
             ]
            ],
            "type": "histogram2d"
           }
          ],
          "histogram2dcontour": [
           {
            "colorbar": {
             "outlinewidth": 0,
             "ticks": ""
            },
            "colorscale": [
             [
              0,
              "#0d0887"
             ],
             [
              0.1111111111111111,
              "#46039f"
             ],
             [
              0.2222222222222222,
              "#7201a8"
             ],
             [
              0.3333333333333333,
              "#9c179e"
             ],
             [
              0.4444444444444444,
              "#bd3786"
             ],
             [
              0.5555555555555556,
              "#d8576b"
             ],
             [
              0.6666666666666666,
              "#ed7953"
             ],
             [
              0.7777777777777778,
              "#fb9f3a"
             ],
             [
              0.8888888888888888,
              "#fdca26"
             ],
             [
              1,
              "#f0f921"
             ]
            ],
            "type": "histogram2dcontour"
           }
          ],
          "mesh3d": [
           {
            "colorbar": {
             "outlinewidth": 0,
             "ticks": ""
            },
            "type": "mesh3d"
           }
          ],
          "parcoords": [
           {
            "line": {
             "colorbar": {
              "outlinewidth": 0,
              "ticks": ""
             }
            },
            "type": "parcoords"
           }
          ],
          "pie": [
           {
            "automargin": true,
            "type": "pie"
           }
          ],
          "scatter": [
           {
            "fillpattern": {
             "fillmode": "overlay",
             "size": 10,
             "solidity": 0.2
            },
            "type": "scatter"
           }
          ],
          "scatter3d": [
           {
            "line": {
             "colorbar": {
              "outlinewidth": 0,
              "ticks": ""
             }
            },
            "marker": {
             "colorbar": {
              "outlinewidth": 0,
              "ticks": ""
             }
            },
            "type": "scatter3d"
           }
          ],
          "scattercarpet": [
           {
            "marker": {
             "colorbar": {
              "outlinewidth": 0,
              "ticks": ""
             }
            },
            "type": "scattercarpet"
           }
          ],
          "scattergeo": [
           {
            "marker": {
             "colorbar": {
              "outlinewidth": 0,
              "ticks": ""
             }
            },
            "type": "scattergeo"
           }
          ],
          "scattergl": [
           {
            "marker": {
             "colorbar": {
              "outlinewidth": 0,
              "ticks": ""
             }
            },
            "type": "scattergl"
           }
          ],
          "scattermapbox": [
           {
            "marker": {
             "colorbar": {
              "outlinewidth": 0,
              "ticks": ""
             }
            },
            "type": "scattermapbox"
           }
          ],
          "scatterpolar": [
           {
            "marker": {
             "colorbar": {
              "outlinewidth": 0,
              "ticks": ""
             }
            },
            "type": "scatterpolar"
           }
          ],
          "scatterpolargl": [
           {
            "marker": {
             "colorbar": {
              "outlinewidth": 0,
              "ticks": ""
             }
            },
            "type": "scatterpolargl"
           }
          ],
          "scatterternary": [
           {
            "marker": {
             "colorbar": {
              "outlinewidth": 0,
              "ticks": ""
             }
            },
            "type": "scatterternary"
           }
          ],
          "surface": [
           {
            "colorbar": {
             "outlinewidth": 0,
             "ticks": ""
            },
            "colorscale": [
             [
              0,
              "#0d0887"
             ],
             [
              0.1111111111111111,
              "#46039f"
             ],
             [
              0.2222222222222222,
              "#7201a8"
             ],
             [
              0.3333333333333333,
              "#9c179e"
             ],
             [
              0.4444444444444444,
              "#bd3786"
             ],
             [
              0.5555555555555556,
              "#d8576b"
             ],
             [
              0.6666666666666666,
              "#ed7953"
             ],
             [
              0.7777777777777778,
              "#fb9f3a"
             ],
             [
              0.8888888888888888,
              "#fdca26"
             ],
             [
              1,
              "#f0f921"
             ]
            ],
            "type": "surface"
           }
          ],
          "table": [
           {
            "cells": {
             "fill": {
              "color": "#EBF0F8"
             },
             "line": {
              "color": "white"
             }
            },
            "header": {
             "fill": {
              "color": "#C8D4E3"
             },
             "line": {
              "color": "white"
             }
            },
            "type": "table"
           }
          ]
         },
         "layout": {
          "annotationdefaults": {
           "arrowcolor": "#2a3f5f",
           "arrowhead": 0,
           "arrowwidth": 1
          },
          "autotypenumbers": "strict",
          "coloraxis": {
           "colorbar": {
            "outlinewidth": 0,
            "ticks": ""
           }
          },
          "colorscale": {
           "diverging": [
            [
             0,
             "#8e0152"
            ],
            [
             0.1,
             "#c51b7d"
            ],
            [
             0.2,
             "#de77ae"
            ],
            [
             0.3,
             "#f1b6da"
            ],
            [
             0.4,
             "#fde0ef"
            ],
            [
             0.5,
             "#f7f7f7"
            ],
            [
             0.6,
             "#e6f5d0"
            ],
            [
             0.7,
             "#b8e186"
            ],
            [
             0.8,
             "#7fbc41"
            ],
            [
             0.9,
             "#4d9221"
            ],
            [
             1,
             "#276419"
            ]
           ],
           "sequential": [
            [
             0,
             "#0d0887"
            ],
            [
             0.1111111111111111,
             "#46039f"
            ],
            [
             0.2222222222222222,
             "#7201a8"
            ],
            [
             0.3333333333333333,
             "#9c179e"
            ],
            [
             0.4444444444444444,
             "#bd3786"
            ],
            [
             0.5555555555555556,
             "#d8576b"
            ],
            [
             0.6666666666666666,
             "#ed7953"
            ],
            [
             0.7777777777777778,
             "#fb9f3a"
            ],
            [
             0.8888888888888888,
             "#fdca26"
            ],
            [
             1,
             "#f0f921"
            ]
           ],
           "sequentialminus": [
            [
             0,
             "#0d0887"
            ],
            [
             0.1111111111111111,
             "#46039f"
            ],
            [
             0.2222222222222222,
             "#7201a8"
            ],
            [
             0.3333333333333333,
             "#9c179e"
            ],
            [
             0.4444444444444444,
             "#bd3786"
            ],
            [
             0.5555555555555556,
             "#d8576b"
            ],
            [
             0.6666666666666666,
             "#ed7953"
            ],
            [
             0.7777777777777778,
             "#fb9f3a"
            ],
            [
             0.8888888888888888,
             "#fdca26"
            ],
            [
             1,
             "#f0f921"
            ]
           ]
          },
          "colorway": [
           "#636efa",
           "#EF553B",
           "#00cc96",
           "#ab63fa",
           "#FFA15A",
           "#19d3f3",
           "#FF6692",
           "#B6E880",
           "#FF97FF",
           "#FECB52"
          ],
          "font": {
           "color": "#2a3f5f"
          },
          "geo": {
           "bgcolor": "white",
           "lakecolor": "white",
           "landcolor": "#E5ECF6",
           "showlakes": true,
           "showland": true,
           "subunitcolor": "white"
          },
          "hoverlabel": {
           "align": "left"
          },
          "hovermode": "closest",
          "mapbox": {
           "style": "light"
          },
          "paper_bgcolor": "white",
          "plot_bgcolor": "#E5ECF6",
          "polar": {
           "angularaxis": {
            "gridcolor": "white",
            "linecolor": "white",
            "ticks": ""
           },
           "bgcolor": "#E5ECF6",
           "radialaxis": {
            "gridcolor": "white",
            "linecolor": "white",
            "ticks": ""
           }
          },
          "scene": {
           "xaxis": {
            "backgroundcolor": "#E5ECF6",
            "gridcolor": "white",
            "gridwidth": 2,
            "linecolor": "white",
            "showbackground": true,
            "ticks": "",
            "zerolinecolor": "white"
           },
           "yaxis": {
            "backgroundcolor": "#E5ECF6",
            "gridcolor": "white",
            "gridwidth": 2,
            "linecolor": "white",
            "showbackground": true,
            "ticks": "",
            "zerolinecolor": "white"
           },
           "zaxis": {
            "backgroundcolor": "#E5ECF6",
            "gridcolor": "white",
            "gridwidth": 2,
            "linecolor": "white",
            "showbackground": true,
            "ticks": "",
            "zerolinecolor": "white"
           }
          },
          "shapedefaults": {
           "line": {
            "color": "#2a3f5f"
           }
          },
          "ternary": {
           "aaxis": {
            "gridcolor": "white",
            "linecolor": "white",
            "ticks": ""
           },
           "baxis": {
            "gridcolor": "white",
            "linecolor": "white",
            "ticks": ""
           },
           "bgcolor": "#E5ECF6",
           "caxis": {
            "gridcolor": "white",
            "linecolor": "white",
            "ticks": ""
           }
          },
          "title": {
           "x": 0.05
          },
          "xaxis": {
           "automargin": true,
           "gridcolor": "white",
           "linecolor": "white",
           "ticks": "",
           "title": {
            "standoff": 15
           },
           "zerolinecolor": "white",
           "zerolinewidth": 2
          },
          "yaxis": {
           "automargin": true,
           "gridcolor": "white",
           "linecolor": "white",
           "ticks": "",
           "title": {
            "standoff": 15
           },
           "zerolinecolor": "white",
           "zerolinewidth": 2
          }
         }
        },
        "xaxis": {
         "autorange": false,
         "range": [
          "2022-12-26 22:30",
          "2022-12-28 01:40:37.5886"
         ],
         "rangeslider": {
          "autorange": true,
          "range": [
           "2022-12-26 22:30",
           "2023-01-02 03:30"
          ],
          "yaxis": {
           "_template": null,
           "rangemode": "match"
          }
         },
         "type": "date"
        },
        "yaxis": {
         "autorange": true,
         "range": [
          1.060077777777778,
          1.0719222222222222
         ]
        }
       }
      },
      "image/png": "[encoded data removed]",
      "text/html": [
       "<div>                            <div id=\"cd3864ee-0f6f-4b32-8c57-a8201f177fec\" class=\"plotly-graph-div\" style=\"height:525px; width:100%;\"></div>            <script type=\"text/javascript\">                require([\"plotly\"], function(Plotly) {                    window.PLOTLYENV=window.PLOTLYENV || {};                                    if (document.getElementById(\"cd3864ee-0f6f-4b32-8c57-a8201f177fec\")) {                    Plotly.newPlot(                        \"cd3864ee-0f6f-4b32-8c57-a8201f177fec\",                        [{\"close\":[1.064,1.06427,1.0652,1.06475,1.06402,1.06457,1.06556,1.0664,1.06456,1.06518,1.06606,1.06658,1.06546,1.06353,1.06276,1.06262,1.06499,1.06529,1.06376,1.06488,1.06416,1.06412,1.0638,1.06422,1.06372,1.06284,1.06422,1.06367,1.06378,1.06418,1.0646,1.06463,1.06457,1.0636,1.06372,1.0634,1.06466,1.06462,1.06417,1.06574,1.06192,1.06214,1.06292,1.062,1.06172,1.06082,1.06122,1.06162,1.0629,1.06341,1.06282,1.06256,1.06233,1.06254,1.06249,1.06142,1.06234,1.06303,1.06563,1.06362,1.06382,1.06525,1.0655,1.06447,1.0667,1.06662,1.0682,1.06749,1.0678,1.0668,1.0661,1.0661,1.06604,1.06683,1.06606,1.06588,1.06592,1.06553,1.06434,1.06446,1.06512,1.06712,1.06548,1.06698,1.06762,1.06723,1.06688,1.06884,1.06722,1.06968,1.07113,1.07024,1.06999,1.07055,1.07039,1.07057,1.07072,1.06985,1.06951,1.06958],\"high\":[1.06458,1.06462,1.06536,1.06606,1.06478,1.0646,1.06573,1.0665,1.0668,1.0658,1.0664,1.06696,1.06692,1.06576,1.0637,1.06297,1.06546,1.06604,1.06532,1.06515,1.06566,1.06469,1.06416,1.06454,1.06421,1.06429,1.06432,1.06422,1.06424,1.06449,1.0647,1.06526,1.06548,1.06481,1.064,1.06433,1.06522,1.06577,1.06499,1.06746,1.06619,1.06275,1.0633,1.06358,1.06276,1.06178,1.06132,1.06166,1.06293,1.06374,1.06342,1.0633,1.0628,1.06262,1.06291,1.0627,1.0625,1.06428,1.06582,1.06565,1.0641,1.06534,1.06672,1.06702,1.06698,1.0671,1.06906,1.06834,1.06794,1.0678,1.06715,1.0664,1.0662,1.06684,1.06698,1.06606,1.06633,1.06596,1.0658,1.06505,1.06514,1.06747,1.06714,1.06762,1.0699,1.0688,1.06804,1.07012,1.06896,1.06972,1.07116,1.07133,1.07095,1.07084,1.07076,1.07062,1.07089,1.0709,1.06985,1.07034],\"low\":[1.06312,1.06348,1.06415,1.06434,1.06356,1.06392,1.06428,1.06532,1.06436,1.06384,1.06481,1.06518,1.06526,1.06322,1.06196,1.06115,1.06242,1.06462,1.06337,1.06358,1.06376,1.06385,1.06364,1.064,1.06308,1.0625,1.06272,1.06354,1.0632,1.06362,1.06406,1.06444,1.0644,1.06343,1.06278,1.06294,1.06314,1.06368,1.06338,1.06394,1.06115,1.0613,1.0616,1.062,1.06148,1.06081,1.06067,1.06097,1.06158,1.06234,1.0627,1.06256,1.062,1.06192,1.06214,1.06112,1.06122,1.06225,1.06307,1.06316,1.06327,1.06366,1.06451,1.06391,1.06365,1.0657,1.06647,1.06712,1.06735,1.06657,1.06602,1.06598,1.06544,1.06592,1.06572,1.0655,1.06573,1.06516,1.06423,1.06406,1.06386,1.06499,1.06515,1.06534,1.06696,1.06716,1.06454,1.06616,1.06594,1.06712,1.06964,1.07005,1.06952,1.06923,1.06974,1.06962,1.06937,1.0694,1.069,1.06924],\"open\":[1.06378,1.064,1.0643,1.0652,1.06476,1.064,1.06458,1.0656,1.0664,1.06455,1.0652,1.06606,1.06656,1.06544,1.0636,1.06275,1.0626,1.06497,1.06529,1.06375,1.06487,1.06414,1.06413,1.06408,1.0642,1.06372,1.06284,1.06422,1.06368,1.06378,1.06417,1.06462,1.06462,1.06457,1.06362,1.06372,1.06338,1.06467,1.06461,1.06416,1.06575,1.06194,1.06214,1.06292,1.06201,1.0617,1.06078,1.0612,1.06162,1.06287,1.06342,1.06282,1.06256,1.06234,1.06252,1.0625,1.06136,1.0624,1.06307,1.06564,1.06362,1.06383,1.06526,1.06553,1.06446,1.0667,1.06664,1.0682,1.06748,1.0678,1.06684,1.06616,1.06616,1.06606,1.06682,1.06603,1.06582,1.06587,1.06552,1.06428,1.06446,1.06514,1.06711,1.06548,1.06697,1.0676,1.06719,1.06686,1.06884,1.06722,1.06966,1.07118,1.07026,1.06997,1.07054,1.06999,1.07048,1.07082,1.06981,1.06955],\"x\":[\"2022-12-26T23:00:00+00:00\",\"2022-12-27T00:00:00+00:00\",\"2022-12-27T01:00:00+00:00\",\"2022-12-27T02:00:00+00:00\",\"2022-12-27T03:00:00+00:00\",\"2022-12-27T04:00:00+00:00\",\"2022-12-27T05:00:00+00:00\",\"2022-12-27T06:00:00+00:00\",\"2022-12-27T07:00:00+00:00\",\"2022-12-27T08:00:00+00:00\",\"2022-12-27T09:00:00+00:00\",\"2022-12-27T10:00:00+00:00\",\"2022-12-27T11:00:00+00:00\",\"2022-12-27T12:00:00+00:00\",\"2022-12-27T13:00:00+00:00\",\"2022-12-27T14:00:00+00:00\",\"2022-12-27T15:00:00+00:00\",\"2022-12-27T16:00:00+00:00\",\"2022-12-27T17:00:00+00:00\",\"2022-12-27T18:00:00+00:00\",\"2022-12-27T19:00:00+00:00\",\"2022-12-27T20:00:00+00:00\",\"2022-12-27T21:00:00+00:00\",\"2022-12-27T22:00:00+00:00\",\"2022-12-27T23:00:00+00:00\",\"2022-12-28T00:00:00+00:00\",\"2022-12-28T01:00:00+00:00\",\"2022-12-28T02:00:00+00:00\",\"2022-12-28T03:00:00+00:00\",\"2022-12-28T04:00:00+00:00\",\"2022-12-28T05:00:00+00:00\",\"2022-12-28T06:00:00+00:00\",\"2022-12-28T07:00:00+00:00\",\"2022-12-28T08:00:00+00:00\",\"2022-12-28T09:00:00+00:00\",\"2022-12-28T10:00:00+00:00\",\"2022-12-28T11:00:00+00:00\",\"2022-12-28T12:00:00+00:00\",\"2022-12-28T13:00:00+00:00\",\"2022-12-28T14:00:00+00:00\",\"2022-12-28T15:00:00+00:00\",\"2022-12-28T16:00:00+00:00\",\"2022-12-28T17:00:00+00:00\",\"2022-12-28T18:00:00+00:00\",\"2022-12-28T19:00:00+00:00\",\"2022-12-28T20:00:00+00:00\",\"2022-12-28T21:00:00+00:00\",\"2022-12-28T22:00:00+00:00\",\"2022-12-28T23:00:00+00:00\",\"2022-12-29T00:00:00+00:00\",\"2022-12-29T01:00:00+00:00\",\"2022-12-29T02:00:00+00:00\",\"2022-12-29T03:00:00+00:00\",\"2022-12-29T04:00:00+00:00\",\"2022-12-29T05:00:00+00:00\",\"2022-12-29T06:00:00+00:00\",\"2022-12-29T07:00:00+00:00\",\"2022-12-29T08:00:00+00:00\",\"2022-12-29T09:00:00+00:00\",\"2022-12-29T10:00:00+00:00\",\"2022-12-29T11:00:00+00:00\",\"2022-12-29T12:00:00+00:00\",\"2022-12-29T13:00:00+00:00\",\"2022-12-29T14:00:00+00:00\",\"2022-12-29T15:00:00+00:00\",\"2022-12-29T16:00:00+00:00\",\"2022-12-29T17:00:00+00:00\",\"2022-12-29T18:00:00+00:00\",\"2022-12-29T19:00:00+00:00\",\"2022-12-29T20:00:00+00:00\",\"2022-12-29T21:00:00+00:00\",\"2022-12-29T22:00:00+00:00\",\"2022-12-29T23:00:00+00:00\",\"2022-12-30T00:00:00+00:00\",\"2022-12-30T01:00:00+00:00\",\"2022-12-30T02:00:00+00:00\",\"2022-12-30T03:00:00+00:00\",\"2022-12-30T04:00:00+00:00\",\"2022-12-30T05:00:00+00:00\",\"2022-12-30T06:00:00+00:00\",\"2022-12-30T07:00:00+00:00\",\"2022-12-30T08:00:00+00:00\",\"2022-12-30T09:00:00+00:00\",\"2022-12-30T10:00:00+00:00\",\"2022-12-30T11:00:00+00:00\",\"2022-12-30T12:00:00+00:00\",\"2022-12-30T13:00:00+00:00\",\"2022-12-30T14:00:00+00:00\",\"2022-12-30T15:00:00+00:00\",\"2022-12-30T16:00:00+00:00\",\"2022-12-30T17:00:00+00:00\",\"2022-12-30T18:00:00+00:00\",\"2022-12-30T19:00:00+00:00\",\"2022-12-30T20:00:00+00:00\",\"2022-12-30T21:00:00+00:00\",\"2023-01-01T23:00:00+00:00\",\"2023-01-02T00:00:00+00:00\",\"2023-01-02T01:00:00+00:00\",\"2023-01-02T02:00:00+00:00\",\"2023-01-02T03:00:00+00:00\"],\"type\":\"candlestick\"}],                        {\"template\":{\"data\":{\"histogram2dcontour\":[{\"type\":\"histogram2dcontour\",\"colorbar\":{\"outlinewidth\":0,\"ticks\":\"\"},\"colorscale\":[[0.0,\"#0d0887\"],[0.1111111111111111,\"#46039f\"],[0.2222222222222222,\"#7201a8\"],[0.3333333333333333,\"#9c179e\"],[0.4444444444444444,\"#bd3786\"],[0.5555555555555556,\"#d8576b\"],[0.6666666666666666,\"#ed7953\"],[0.7777777777777778,\"#fb9f3a\"],[0.8888888888888888,\"#fdca26\"],[1.0,\"#f0f921\"]]}],\"choropleth\":[{\"type\":\"choropleth\",\"colorbar\":{\"outlinewidth\":0,\"ticks\":\"\"}}],\"histogram2d\":[{\"type\":\"histogram2d\",\"colorbar\":{\"outlinewidth\":0,\"ticks\":\"\"},\"colorscale\":[[0.0,\"#0d0887\"],[0.1111111111111111,\"#46039f\"],[0.2222222222222222,\"#7201a8\"],[0.3333333333333333,\"#9c179e\"],[0.4444444444444444,\"#bd3786\"],[0.5555555555555556,\"#d8576b\"],[0.6666666666666666,\"#ed7953\"],[0.7777777777777778,\"#fb9f3a\"],[0.8888888888888888,\"#fdca26\"],[1.0,\"#f0f921\"]]}],\"heatmap\":[{\"type\":\"heatmap\",\"colorbar\":{\"outlinewidth\":0,\"ticks\":\"\"},\"colorscale\":[[0.0,\"#0d0887\"],[0.1111111111111111,\"#46039f\"],[0.2222222222222222,\"#7201a8\"],[0.3333333333333333,\"#9c179e\"],[0.4444444444444444,\"#bd3786\"],[0.5555555555555556,\"#d8576b\"],[0.6666666666666666,\"#ed7953\"],[0.7777777777777778,\"#fb9f3a\"],[0.8888888888888888,\"#fdca26\"],[1.0,\"#f0f921\"]]}],\"heatmapgl\":[{\"type\":\"heatmapgl\",\"colorbar\":{\"outlinewidth\":0,\"ticks\":\"\"},\"colorscale\":[[0.0,\"#0d0887\"],[0.1111111111111111,\"#46039f\"],[0.2222222222222222,\"#7201a8\"],[0.3333333333333333,\"#9c179e\"],[0.4444444444444444,\"#bd3786\"],[0.5555555555555556,\"#d8576b\"],[0.6666666666666666,\"#ed7953\"],[0.7777777777777778,\"#fb9f3a\"],[0.8888888888888888,\"#fdca26\"],[1.0,\"#f0f921\"]]}],\"contourcarpet\":[{\"type\":\"contourcarpet\",\"colorbar\":{\"outlinewidth\":0,\"ticks\":\"\"}}],\"contour\":[{\"type\":\"contour\",\"colorbar\":{\"outlinewidth\":0,\"ticks\":\"\"},\"colorscale\":[[0.0,\"#0d0887\"],[0.1111111111111111,\"#46039f\"],[0.2222222222222222,\"#7201a8\"],[0.3333333333333333,\"#9c179e\"],[0.4444444444444444,\"#bd3786\"],[0.5555555555555556,\"#d8576b\"],[0.6666666666666666,\"#ed7953\"],[0.7777777777777778,\"#fb9f3a\"],[0.8888888888888888,\"#fdca26\"],[1.0,\"#f0f921\"]]}],\"surface\":[{\"type\":\"surface\",\"colorbar\":{\"outlinewidth\":0,\"ticks\":\"\"},\"colorscale\":[[0.0,\"#0d0887\"],[0.1111111111111111,\"#46039f\"],[0.2222222222222222,\"#7201a8\"],[0.3333333333333333,\"#9c179e\"],[0.4444444444444444,\"#bd3786\"],[0.5555555555555556,\"#d8576b\"],[0.6666666666666666,\"#ed7953\"],[0.7777777777777778,\"#fb9f3a\"],[0.8888888888888888,\"#fdca26\"],[1.0,\"#f0f921\"]]}],\"mesh3d\":[{\"type\":\"mesh3d\",\"colorbar\":{\"outlinewidth\":0,\"ticks\":\"\"}}],\"scatter\":[{\"fillpattern\":{\"fillmode\":\"overlay\",\"size\":10,\"solidity\":0.2},\"type\":\"scatter\"}],\"parcoords\":[{\"type\":\"parcoords\",\"line\":{\"colorbar\":{\"outlinewidth\":0,\"ticks\":\"\"}}}],\"scatterpolargl\":[{\"type\":\"scatterpolargl\",\"marker\":{\"colorbar\":{\"outlinewidth\":0,\"ticks\":\"\"}}}],\"bar\":[{\"error_x\":{\"color\":\"#2a3f5f\"},\"error_y\":{\"color\":\"#2a3f5f\"},\"marker\":{\"line\":{\"color\":\"#E5ECF6\",\"width\":0.5},\"pattern\":{\"fillmode\":\"overlay\",\"size\":10,\"solidity\":0.2}},\"type\":\"bar\"}],\"scattergeo\":[{\"type\":\"scattergeo\",\"marker\":{\"colorbar\":{\"outlinewidth\":0,\"ticks\":\"\"}}}],\"scatterpolar\":[{\"type\":\"scatterpolar\",\"marker\":{\"colorbar\":{\"outlinewidth\":0,\"ticks\":\"\"}}}],\"histogram\":[{\"marker\":{\"pattern\":{\"fillmode\":\"overlay\",\"size\":10,\"solidity\":0.2}},\"type\":\"histogram\"}],\"scattergl\":[{\"type\":\"scattergl\",\"marker\":{\"colorbar\":{\"outlinewidth\":0,\"ticks\":\"\"}}}],\"scatter3d\":[{\"type\":\"scatter3d\",\"line\":{\"colorbar\":{\"outlinewidth\":0,\"ticks\":\"\"}},\"marker\":{\"colorbar\":{\"outlinewidth\":0,\"ticks\":\"\"}}}],\"scattermapbox\":[{\"type\":\"scattermapbox\",\"marker\":{\"colorbar\":{\"outlinewidth\":0,\"ticks\":\"\"}}}],\"scatterternary\":[{\"type\":\"scatterternary\",\"marker\":{\"colorbar\":{\"outlinewidth\":0,\"ticks\":\"\"}}}],\"scattercarpet\":[{\"type\":\"scattercarpet\",\"marker\":{\"colorbar\":{\"outlinewidth\":0,\"ticks\":\"\"}}}],\"carpet\":[{\"aaxis\":{\"endlinecolor\":\"#2a3f5f\",\"gridcolor\":\"white\",\"linecolor\":\"white\",\"minorgridcolor\":\"white\",\"startlinecolor\":\"#2a3f5f\"},\"baxis\":{\"endlinecolor\":\"#2a3f5f\",\"gridcolor\":\"white\",\"linecolor\":\"white\",\"minorgridcolor\":\"white\",\"startlinecolor\":\"#2a3f5f\"},\"type\":\"carpet\"}],\"table\":[{\"cells\":{\"fill\":{\"color\":\"#EBF0F8\"},\"line\":{\"color\":\"white\"}},\"header\":{\"fill\":{\"color\":\"#C8D4E3\"},\"line\":{\"color\":\"white\"}},\"type\":\"table\"}],\"barpolar\":[{\"marker\":{\"line\":{\"color\":\"#E5ECF6\",\"width\":0.5},\"pattern\":{\"fillmode\":\"overlay\",\"size\":10,\"solidity\":0.2}},\"type\":\"barpolar\"}],\"pie\":[{\"automargin\":true,\"type\":\"pie\"}]},\"layout\":{\"autotypenumbers\":\"strict\",\"colorway\":[\"#636efa\",\"#EF553B\",\"#00cc96\",\"#ab63fa\",\"#FFA15A\",\"#19d3f3\",\"#FF6692\",\"#B6E880\",\"#FF97FF\",\"#FECB52\"],\"font\":{\"color\":\"#2a3f5f\"},\"hovermode\":\"closest\",\"hoverlabel\":{\"align\":\"left\"},\"paper_bgcolor\":\"white\",\"plot_bgcolor\":\"#E5ECF6\",\"polar\":{\"bgcolor\":\"#E5ECF6\",\"angularaxis\":{\"gridcolor\":\"white\",\"linecolor\":\"white\",\"ticks\":\"\"},\"radialaxis\":{\"gridcolor\":\"white\",\"linecolor\":\"white\",\"ticks\":\"\"}},\"ternary\":{\"bgcolor\":\"#E5ECF6\",\"aaxis\":{\"gridcolor\":\"white\",\"linecolor\":\"white\",\"ticks\":\"\"},\"baxis\":{\"gridcolor\":\"white\",\"linecolor\":\"white\",\"ticks\":\"\"},\"caxis\":{\"gridcolor\":\"white\",\"linecolor\":\"white\",\"ticks\":\"\"}},\"coloraxis\":{\"colorbar\":{\"outlinewidth\":0,\"ticks\":\"\"}},\"colorscale\":{\"sequential\":[[0.0,\"#0d0887\"],[0.1111111111111111,\"#46039f\"],[0.2222222222222222,\"#7201a8\"],[0.3333333333333333,\"#9c179e\"],[0.4444444444444444,\"#bd3786\"],[0.5555555555555556,\"#d8576b\"],[0.6666666666666666,\"#ed7953\"],[0.7777777777777778,\"#fb9f3a\"],[0.8888888888888888,\"#fdca26\"],[1.0,\"#f0f921\"]],\"sequentialminus\":[[0.0,\"#0d0887\"],[0.1111111111111111,\"#46039f\"],[0.2222222222222222,\"#7201a8\"],[0.3333333333333333,\"#9c179e\"],[0.4444444444444444,\"#bd3786\"],[0.5555555555555556,\"#d8576b\"],[0.6666666666666666,\"#ed7953\"],[0.7777777777777778,\"#fb9f3a\"],[0.8888888888888888,\"#fdca26\"],[1.0,\"#f0f921\"]],\"diverging\":[[0,\"#8e0152\"],[0.1,\"#c51b7d\"],[0.2,\"#de77ae\"],[0.3,\"#f1b6da\"],[0.4,\"#fde0ef\"],[0.5,\"#f7f7f7\"],[0.6,\"#e6f5d0\"],[0.7,\"#b8e186\"],[0.8,\"#7fbc41\"],[0.9,\"#4d9221\"],[1,\"#276419\"]]},\"xaxis\":{\"gridcolor\":\"white\",\"linecolor\":\"white\",\"ticks\":\"\",\"title\":{\"standoff\":15},\"zerolinecolor\":\"white\",\"automargin\":true,\"zerolinewidth\":2},\"yaxis\":{\"gridcolor\":\"white\",\"linecolor\":\"white\",\"ticks\":\"\",\"title\":{\"standoff\":15},\"zerolinecolor\":\"white\",\"automargin\":true,\"zerolinewidth\":2},\"scene\":{\"xaxis\":{\"backgroundcolor\":\"#E5ECF6\",\"gridcolor\":\"white\",\"linecolor\":\"white\",\"showbackground\":true,\"ticks\":\"\",\"zerolinecolor\":\"white\",\"gridwidth\":2},\"yaxis\":{\"backgroundcolor\":\"#E5ECF6\",\"gridcolor\":\"white\",\"linecolor\":\"white\",\"showbackground\":true,\"ticks\":\"\",\"zerolinecolor\":\"white\",\"gridwidth\":2},\"zaxis\":{\"backgroundcolor\":\"#E5ECF6\",\"gridcolor\":\"white\",\"linecolor\":\"white\",\"showbackground\":true,\"ticks\":\"\",\"zerolinecolor\":\"white\",\"gridwidth\":2}},\"shapedefaults\":{\"line\":{\"color\":\"#2a3f5f\"}},\"annotationdefaults\":{\"arrowcolor\":\"#2a3f5f\",\"arrowhead\":0,\"arrowwidth\":1},\"geo\":{\"bgcolor\":\"white\",\"landcolor\":\"#E5ECF6\",\"subunitcolor\":\"white\",\"showland\":true,\"showlakes\":true,\"lakecolor\":\"white\"},\"title\":{\"x\":0.05},\"mapbox\":{\"style\":\"light\"}}}},                        {\"responsive\": true}                    ).then(function(){\n",
       "                            \n",
       "var gd = document.getElementById('cd3864ee-0f6f-4b32-8c57-a8201f177fec');\n",
       "var x = new MutationObserver(function (mutations, observer) {{\n",
       "        var display = window.getComputedStyle(gd).display;\n",
       "        if (!display || display === 'none') {{\n",
       "            console.log([gd, 'removed!']);\n",
       "            Plotly.purge(gd);\n",
       "            observer.disconnect();\n",
       "        }}\n",
       "}});\n",
       "\n",
       "// Listen for the removal of the full notebook cells\n",
       "var notebookContainer = gd.closest('#notebook-container');\n",
       "if (notebookContainer) {{\n",
       "    x.observe(notebookContainer, {childList: true});\n",
       "}}\n",
       "\n",
       "// Listen for the clearing of the current output cell\n",
       "var outputEl = gd.closest('.output');\n",
       "if (outputEl) {{\n",
       "    x.observe(outputEl, {childList: true});\n",
       "}}\n",
       "\n",
       "                        })                };                });            </script>        </div>"
      ]
     },
     "metadata": {},
     "output_type": "display_data"
    }
   ],
   "source": [
    "fig = go.Figure()\n",
    "fig.add_trace(go.Candlestick(\n",
    "    x = df_plot.time,      ##df_plot בכל שורה הכחול זה עמודה רלוונטית בטבלת \n",
    "    open=df_plot.mid_o,\n",
    "    high=df_plot.mid_h,\n",
    "    low=df_plot.mid_l,\n",
    "    close=df_plot.mid_c))\n",
    "\n",
    "fig.show()"
   ]
  },
  {
   "cell_type": "code",
   "execution_count": null,
   "id": "5e1108ce-57b6-4212-a6f5-fe3573ad76fa",
   "metadata": {},
   "outputs": [],
   "source": []
  }
 ],
 "metadata": {
  "kernelspec": {
   "display_name": "Python 3 (ipykernel)",
   "language": "python",
   "name": "python3"
  },
  "language_info": {
   "codemirror_mode": {
    "name": "ipython",
    "version": 3
   },
   "file_extension": ".py",
   "mimetype": "text/x-python",
   "name": "python",
   "nbconvert_exporter": "python",
   "pygments_lexer": "ipython3",
   "version": "3.11.0"
  }
 },
 "nbformat": 4,
 "nbformat_minor": 5
}
