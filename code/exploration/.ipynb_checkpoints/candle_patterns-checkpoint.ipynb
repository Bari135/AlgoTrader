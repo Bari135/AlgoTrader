{
 "cells": [
  {
   "cell_type": "code",
   "execution_count": 1,
   "id": "04236ccb-178f-4c1c-adba-cbd170725804",
   "metadata": {},
   "outputs": [],
   "source": [
    "import sys\n",
    "sys.path.append(\"../\")\n",
    "from plotting import CandlePlot\n",
    "import pandas as pd"
   ]
  },
  {
   "cell_type": "code",
   "execution_count": 2,
   "id": "24a164d2-d75d-4d68-a7bd-6e35c79a2e93",
   "metadata": {},
   "outputs": [],
   "source": [
    "from technicals.patterns import apply_patterns"
   ]
  },
  {
   "cell_type": "code",
   "execution_count": 3,
   "id": "c05d84ff-5eb9-4352-8eca-c5f05d625871",
   "metadata": {},
   "outputs": [],
   "source": [
    "df = pd.read_pickle(\"../data/GBP_JPY_H1.pkl\")"
   ]
  },
  {
   "cell_type": "code",
   "execution_count": 4,
   "id": "731e4954-0157-4207-8456-e43434274454",
   "metadata": {},
   "outputs": [],
   "source": [
    "df_an = df[['time', \"mid_o\", \"mid_h\", \"mid_l\", \"mid_c\"]].copy()"
   ]
  },
  {
   "cell_type": "code",
   "execution_count": 5,
   "id": "45e576ef-af52-42da-9fb8-866493104ad9",
   "metadata": {},
   "outputs": [
    {
     "data": {
      "text/html": [
       "<div>\n",
       "<style scoped>\n",
       "    .dataframe tbody tr th:only-of-type {\n",
       "        vertical-align: middle;\n",
       "    }\n",
       "\n",
       "    .dataframe tbody tr th {\n",
       "        vertical-align: top;\n",
       "    }\n",
       "\n",
       "    .dataframe thead th {\n",
       "        text-align: right;\n",
       "    }\n",
       "</style>\n",
       "<table border=\"1\" class=\"dataframe\">\n",
       "  <thead>\n",
       "    <tr style=\"text-align: right;\">\n",
       "      <th></th>\n",
       "      <th>time</th>\n",
       "      <th>mid_o</th>\n",
       "      <th>mid_h</th>\n",
       "      <th>mid_l</th>\n",
       "      <th>mid_c</th>\n",
       "    </tr>\n",
       "  </thead>\n",
       "  <tbody>\n",
       "    <tr>\n",
       "      <th>37219</th>\n",
       "      <td>2021-12-30 19:00:00+00:00</td>\n",
       "      <td>155.312</td>\n",
       "      <td>155.444</td>\n",
       "      <td>155.274</td>\n",
       "      <td>155.444</td>\n",
       "    </tr>\n",
       "    <tr>\n",
       "      <th>37220</th>\n",
       "      <td>2021-12-30 20:00:00+00:00</td>\n",
       "      <td>155.442</td>\n",
       "      <td>155.470</td>\n",
       "      <td>155.289</td>\n",
       "      <td>155.312</td>\n",
       "    </tr>\n",
       "    <tr>\n",
       "      <th>37221</th>\n",
       "      <td>2021-12-30 21:00:00+00:00</td>\n",
       "      <td>155.317</td>\n",
       "      <td>155.382</td>\n",
       "      <td>155.286</td>\n",
       "      <td>155.382</td>\n",
       "    </tr>\n",
       "    <tr>\n",
       "      <th>37222</th>\n",
       "      <td>2021-12-30 22:00:00+00:00</td>\n",
       "      <td>155.353</td>\n",
       "      <td>155.381</td>\n",
       "      <td>155.282</td>\n",
       "      <td>155.329</td>\n",
       "    </tr>\n",
       "    <tr>\n",
       "      <th>37223</th>\n",
       "      <td>2021-12-30 23:00:00+00:00</td>\n",
       "      <td>155.336</td>\n",
       "      <td>155.360</td>\n",
       "      <td>155.284</td>\n",
       "      <td>155.310</td>\n",
       "    </tr>\n",
       "  </tbody>\n",
       "</table>\n",
       "</div>"
      ],
      "text/plain": [
       "                           time    mid_o    mid_h    mid_l    mid_c\n",
       "37219 2021-12-30 19:00:00+00:00  155.312  155.444  155.274  155.444\n",
       "37220 2021-12-30 20:00:00+00:00  155.442  155.470  155.289  155.312\n",
       "37221 2021-12-30 21:00:00+00:00  155.317  155.382  155.286  155.382\n",
       "37222 2021-12-30 22:00:00+00:00  155.353  155.381  155.282  155.329\n",
       "37223 2021-12-30 23:00:00+00:00  155.336  155.360  155.284  155.310"
      ]
     },
     "execution_count": 5,
     "metadata": {},
     "output_type": "execute_result"
    }
   ],
   "source": [
    "df_an.tail()"
   ]
  },
  {
   "cell_type": "code",
   "execution_count": null,
   "id": "b24c0884-30f7-440e-8fc2-103b6be7e710",
   "metadata": {},
   "outputs": [],
   "source": [
    "# direction = df_an.mid_o - df_an.mid_c\n",
    "# body_size = abs(direction)\n",
    "# direction = [1 if x>=0 else -1 for x in direction]\n",
    "# full_range = df_an.mid_h - df_an.mid_l\n",
    "# body_perc = (body_size / full_range) * 100\n",
    "# body_lower = df_an[['mid_o','mid_c']].min(axis=1)\n",
    "# body_upper = df_an[['mid_o','mid_c']].max(axis=1)\n",
    "# body_bottom_perc = ((body_lower - df_an.mid_l) / full_range) * 100\n",
    "# body_top_perc = 100 - (((df_an.mid_h - body_upper) / full_range) * 100)"
   ]
  },
  {
   "cell_type": "code",
   "execution_count": null,
   "id": "a2470005-e0a2-4a15-afd0-2a4abbe6b760",
   "metadata": {},
   "outputs": [],
   "source": [
    "# df_an['body_lower'] = body_lower\n",
    "# df_an['body_upper'] = body_upper\n",
    "# df_an['body_bottom_perc'] = body_bottom_perc\n",
    "# df_an['body_top_perc'] = body_top_perc\n",
    "# df_an['body_perc'] = body_perc"
   ]
  },
  {
   "cell_type": "code",
   "execution_count": 6,
   "id": "4ecc7509-9e12-4985-8743-347cee3a770c",
   "metadata": {},
   "outputs": [],
   "source": [
    "df_an = apply_patterns(df_an)"
   ]
  },
  {
   "cell_type": "code",
   "execution_count": 7,
   "id": "4993f6e7-ed1e-430a-a736-8c09fd32fdc1",
   "metadata": {},
   "outputs": [],
   "source": [
    "HANGING_MAN_BODY = 15.0\n",
    "HANGING_MAN_HEIGHT = 75.0\n",
    "SHOOTING_STAR_HEIGHT = 25.0\n",
    "SPINNING_TOP_MAX = 60.0\n",
    "SPINNING_TOP_MIN = 40.0\n",
    "MARUBOZU = 98.0\n",
    "ENGULFING_FACTOR = 1.1\n",
    "\n",
    "apply_marubozu = lambda x: x.body_perc > MARUBOZU\n",
    "\n",
    "def apply_hanging_man(row):\n",
    "    if row.body_bottom_perc > HANGING_MAN_HEIGHT:\n",
    "        if row.body_perc  < HANGING_MAN_BODY:\n",
    "            return True\n",
    "    return False\n",
    "\n",
    "def apply_shooting_star(row):\n",
    "    if row.body_top_perc < SHOOTING_STAR_HEIGHT:\n",
    "        if row.body_perc  < HANGING_MAN_BODY:\n",
    "            return True\n",
    "    return False\n",
    "\n",
    "def apply_spinning_top(row):\n",
    "    if row.body_top_perc < SPINNING_TOP_MAX:\n",
    "        if row.body_bottom_perc > SPINNING_TOP_MIN:\n",
    "            if row.body_perc  < HANGING_MAN_BODY:\n",
    "                return True\n",
    "    return False\n",
    "\n",
    "def apply_engulfing_candles(row):\n",
    "    if row.direction != row.direction_prev:\n",
    "        if row.body_size > row.body_size_prev * ENGULFING_FACTOR:\n",
    "            return True\n",
    "    return False\n",
    "\n",
    "TWEEZER_BODY = 15.0\n",
    "TWEEZER_HL = 0.01\n",
    "TWEEZER_TOP_BODY = 40.0\n",
    "TWEEZER_BOTTOM_BODY = 60.0\n",
    "\n",
    "def apply_tweezer_top(row):\n",
    "    if abs(row.body_size_change) < TWEEZER_BODY:\n",
    "        if row.direction == -1 and row.direction != row.direction_prev:\n",
    "            if abs(row.low_change) < TWEEZER_HL and abs(row.high_change) < TWEEZER_HL:\n",
    "                if row.body_top_perc < TWEEZER_TOP_BODY:\n",
    "                    return True\n",
    "    return False\n",
    "\n",
    "def apply_tweezer_bottom(row):\n",
    "    if abs(row.body_size_change) < TWEEZER_BODY:\n",
    "        if row.direction == 1 and row.direction != row.direction_prev:\n",
    "            if abs(row.low_change) < TWEEZER_HL and abs(row.high_change) < TWEEZER_HL:\n",
    "                if row.body_bottom_perc > TWEEZER_BOTTOM_BODY:\n",
    "                    return True\n",
    "    return False\n",
    "\n",
    "MORNING_STAR_PREV2_BODY = 90.0\n",
    "MORNING_STAR_PREV_BODY = 10.0\n",
    "\n",
    "def apply_morning_star(row, direction = 1):\n",
    "    if row.body_perc_prev_2 > MORNING_STAR_PREV2_BODY:\n",
    "        if row.body_perc_prev < MORNING_STAR_PREV_BODY:\n",
    "            if row.direction == direction and row.direction_prev_2 != direction:\n",
    "                if direction == 1:\n",
    "                    if row.mid_c > row.mid_point_prev_2:\n",
    "                        return True\n",
    "                else:\n",
    "                    if row.mid_c < row.mid_point_prev_2:\n",
    "                        return True\n",
    "    return False"
   ]
  },
  {
   "cell_type": "code",
   "execution_count": 8,
   "id": "d709c5a5-28a1-4314-9b46-0b2824a28eab",
   "metadata": {},
   "outputs": [],
   "source": [
    "df_an['body_size_prev'] = df_an.body_size.shift(1)\n",
    "df_an['direction_prev'] = df_an.direction.shift(1)\n",
    "df_an['direction_prev_2'] = df_an.direction.shift(2)\n",
    "df_an['body_perc_prev'] = df_an.body_perc.shift(1)\n",
    "df_an['body_perc_prev_2'] = df_an.body_perc.shift(2)\n",
    "df_an['HANGING_MAN'] = df_an.apply(apply_hanging_man, axis=1)\n",
    "df_an['SHOOTING_STAR'] = df_an.apply(apply_shooting_star, axis=1)\n",
    "df_an['SPINNING_TOP'] = df_an.apply(apply_spinning_top, axis=1)\n",
    "df_an['MARUBOZU'] = df_an.apply(apply_marubozu, axis=1)\n",
    "df_an['ENGULFING'] = df_an.apply(apply_engulfing_candles, axis=1)\n",
    "df_an['TWEEZER_TOP'] = df_an.apply(apply_tweezer_top, axis=1)\n",
    "df_an['TWEEZER_BOTTOM'] = df_an.apply(apply_tweezer_bottom, axis=1)\n",
    "df_an['MORNING_STAR'] = df_an.apply(apply_morning_star, axis=1)\n",
    "df_an['EVENING_STAR'] = df_an.apply(apply_morning_star, axis=1, direction = -1)"
   ]
  },
  {
   "cell_type": "code",
   "execution_count": 9,
   "id": "655565ab-1d61-4530-ab15-5092e275c2b6",
   "metadata": {},
   "outputs": [
    {
     "data": {
      "text/html": [
       "<div>\n",
       "<style scoped>\n",
       "    .dataframe tbody tr th:only-of-type {\n",
       "        vertical-align: middle;\n",
       "    }\n",
       "\n",
       "    .dataframe tbody tr th {\n",
       "        vertical-align: top;\n",
       "    }\n",
       "\n",
       "    .dataframe thead th {\n",
       "        text-align: right;\n",
       "    }\n",
       "</style>\n",
       "<table border=\"1\" class=\"dataframe\">\n",
       "  <thead>\n",
       "    <tr style=\"text-align: right;\">\n",
       "      <th></th>\n",
       "      <th>time</th>\n",
       "      <th>mid_o</th>\n",
       "      <th>mid_h</th>\n",
       "      <th>mid_l</th>\n",
       "      <th>mid_c</th>\n",
       "      <th>body_lower</th>\n",
       "      <th>body_upper</th>\n",
       "      <th>body_bottom_perc</th>\n",
       "      <th>body_top_perc</th>\n",
       "      <th>body_perc</th>\n",
       "      <th>...</th>\n",
       "      <th>body_perc_prev_2</th>\n",
       "      <th>HANGING_MAN</th>\n",
       "      <th>SHOOTING_STAR</th>\n",
       "      <th>SPINNING_TOP</th>\n",
       "      <th>MARUBOZU</th>\n",
       "      <th>ENGULFING</th>\n",
       "      <th>TWEEZER_TOP</th>\n",
       "      <th>TWEEZER_BOTTOM</th>\n",
       "      <th>MORNING_STAR</th>\n",
       "      <th>EVENING_STAR</th>\n",
       "    </tr>\n",
       "  </thead>\n",
       "  <tbody>\n",
       "    <tr>\n",
       "      <th>1058</th>\n",
       "      <td>2016-03-09 02:00:00+00:00</td>\n",
       "      <td>159.660</td>\n",
       "      <td>159.884</td>\n",
       "      <td>159.560</td>\n",
       "      <td>159.870</td>\n",
       "      <td>159.660</td>\n",
       "      <td>159.870</td>\n",
       "      <td>30.864198</td>\n",
       "      <td>95.679012</td>\n",
       "      <td>64.814815</td>\n",
       "      <td>...</td>\n",
       "      <td>90.086207</td>\n",
       "      <td>False</td>\n",
       "      <td>False</td>\n",
       "      <td>False</td>\n",
       "      <td>False</td>\n",
       "      <td>True</td>\n",
       "      <td>False</td>\n",
       "      <td>False</td>\n",
       "      <td>True</td>\n",
       "      <td>False</td>\n",
       "    </tr>\n",
       "    <tr>\n",
       "      <th>9085</th>\n",
       "      <td>2017-06-22 14:00:00+00:00</td>\n",
       "      <td>140.676</td>\n",
       "      <td>141.128</td>\n",
       "      <td>140.640</td>\n",
       "      <td>140.984</td>\n",
       "      <td>140.676</td>\n",
       "      <td>140.984</td>\n",
       "      <td>7.377049</td>\n",
       "      <td>70.491803</td>\n",
       "      <td>63.114754</td>\n",
       "      <td>...</td>\n",
       "      <td>91.777778</td>\n",
       "      <td>False</td>\n",
       "      <td>False</td>\n",
       "      <td>False</td>\n",
       "      <td>False</td>\n",
       "      <td>False</td>\n",
       "      <td>False</td>\n",
       "      <td>False</td>\n",
       "      <td>True</td>\n",
       "      <td>False</td>\n",
       "    </tr>\n",
       "    <tr>\n",
       "      <th>16610</th>\n",
       "      <td>2018-09-07 01:00:00+00:00</td>\n",
       "      <td>142.801</td>\n",
       "      <td>143.024</td>\n",
       "      <td>142.779</td>\n",
       "      <td>142.991</td>\n",
       "      <td>142.801</td>\n",
       "      <td>142.991</td>\n",
       "      <td>8.979592</td>\n",
       "      <td>86.530612</td>\n",
       "      <td>77.551020</td>\n",
       "      <td>...</td>\n",
       "      <td>90.235690</td>\n",
       "      <td>False</td>\n",
       "      <td>False</td>\n",
       "      <td>False</td>\n",
       "      <td>False</td>\n",
       "      <td>True</td>\n",
       "      <td>False</td>\n",
       "      <td>False</td>\n",
       "      <td>True</td>\n",
       "      <td>False</td>\n",
       "    </tr>\n",
       "    <tr>\n",
       "      <th>23230</th>\n",
       "      <td>2019-10-01 16:00:00+00:00</td>\n",
       "      <td>131.852</td>\n",
       "      <td>132.896</td>\n",
       "      <td>131.792</td>\n",
       "      <td>132.662</td>\n",
       "      <td>131.852</td>\n",
       "      <td>132.662</td>\n",
       "      <td>5.434783</td>\n",
       "      <td>78.804348</td>\n",
       "      <td>73.369565</td>\n",
       "      <td>...</td>\n",
       "      <td>94.313725</td>\n",
       "      <td>False</td>\n",
       "      <td>False</td>\n",
       "      <td>False</td>\n",
       "      <td>False</td>\n",
       "      <td>False</td>\n",
       "      <td>False</td>\n",
       "      <td>False</td>\n",
       "      <td>True</td>\n",
       "      <td>False</td>\n",
       "    </tr>\n",
       "    <tr>\n",
       "      <th>25802</th>\n",
       "      <td>2020-03-02 23:00:00+00:00</td>\n",
       "      <td>138.109</td>\n",
       "      <td>138.572</td>\n",
       "      <td>138.109</td>\n",
       "      <td>138.551</td>\n",
       "      <td>138.109</td>\n",
       "      <td>138.551</td>\n",
       "      <td>0.000000</td>\n",
       "      <td>95.464363</td>\n",
       "      <td>95.464363</td>\n",
       "      <td>...</td>\n",
       "      <td>91.612903</td>\n",
       "      <td>False</td>\n",
       "      <td>False</td>\n",
       "      <td>False</td>\n",
       "      <td>False</td>\n",
       "      <td>True</td>\n",
       "      <td>False</td>\n",
       "      <td>False</td>\n",
       "      <td>True</td>\n",
       "      <td>False</td>\n",
       "    </tr>\n",
       "    <tr>\n",
       "      <th>28631</th>\n",
       "      <td>2020-08-13 20:00:00+00:00</td>\n",
       "      <td>139.550</td>\n",
       "      <td>139.754</td>\n",
       "      <td>139.515</td>\n",
       "      <td>139.736</td>\n",
       "      <td>139.550</td>\n",
       "      <td>139.736</td>\n",
       "      <td>14.644351</td>\n",
       "      <td>92.468619</td>\n",
       "      <td>77.824268</td>\n",
       "      <td>...</td>\n",
       "      <td>95.846645</td>\n",
       "      <td>False</td>\n",
       "      <td>False</td>\n",
       "      <td>False</td>\n",
       "      <td>False</td>\n",
       "      <td>True</td>\n",
       "      <td>False</td>\n",
       "      <td>False</td>\n",
       "      <td>True</td>\n",
       "      <td>False</td>\n",
       "    </tr>\n",
       "    <tr>\n",
       "      <th>28687</th>\n",
       "      <td>2020-08-18 04:00:00+00:00</td>\n",
       "      <td>138.698</td>\n",
       "      <td>138.802</td>\n",
       "      <td>138.696</td>\n",
       "      <td>138.768</td>\n",
       "      <td>138.698</td>\n",
       "      <td>138.768</td>\n",
       "      <td>1.886792</td>\n",
       "      <td>67.924528</td>\n",
       "      <td>66.037736</td>\n",
       "      <td>...</td>\n",
       "      <td>92.307692</td>\n",
       "      <td>False</td>\n",
       "      <td>False</td>\n",
       "      <td>False</td>\n",
       "      <td>False</td>\n",
       "      <td>True</td>\n",
       "      <td>False</td>\n",
       "      <td>False</td>\n",
       "      <td>True</td>\n",
       "      <td>False</td>\n",
       "    </tr>\n",
       "    <tr>\n",
       "      <th>31465</th>\n",
       "      <td>2021-01-28 23:00:00+00:00</td>\n",
       "      <td>143.092</td>\n",
       "      <td>143.173</td>\n",
       "      <td>143.077</td>\n",
       "      <td>143.156</td>\n",
       "      <td>143.092</td>\n",
       "      <td>143.156</td>\n",
       "      <td>15.625000</td>\n",
       "      <td>82.291667</td>\n",
       "      <td>66.666667</td>\n",
       "      <td>...</td>\n",
       "      <td>95.774648</td>\n",
       "      <td>False</td>\n",
       "      <td>False</td>\n",
       "      <td>False</td>\n",
       "      <td>False</td>\n",
       "      <td>False</td>\n",
       "      <td>False</td>\n",
       "      <td>False</td>\n",
       "      <td>True</td>\n",
       "      <td>False</td>\n",
       "    </tr>\n",
       "    <tr>\n",
       "      <th>33455</th>\n",
       "      <td>2021-05-25 20:00:00+00:00</td>\n",
       "      <td>153.810</td>\n",
       "      <td>153.954</td>\n",
       "      <td>153.796</td>\n",
       "      <td>153.936</td>\n",
       "      <td>153.810</td>\n",
       "      <td>153.936</td>\n",
       "      <td>8.860759</td>\n",
       "      <td>88.607595</td>\n",
       "      <td>79.746835</td>\n",
       "      <td>...</td>\n",
       "      <td>91.803279</td>\n",
       "      <td>False</td>\n",
       "      <td>False</td>\n",
       "      <td>False</td>\n",
       "      <td>False</td>\n",
       "      <td>True</td>\n",
       "      <td>False</td>\n",
       "      <td>False</td>\n",
       "      <td>True</td>\n",
       "      <td>False</td>\n",
       "    </tr>\n",
       "    <tr>\n",
       "      <th>35208</th>\n",
       "      <td>2021-09-05 21:00:00+00:00</td>\n",
       "      <td>152.118</td>\n",
       "      <td>152.277</td>\n",
       "      <td>152.075</td>\n",
       "      <td>152.119</td>\n",
       "      <td>152.118</td>\n",
       "      <td>152.119</td>\n",
       "      <td>21.287129</td>\n",
       "      <td>21.782178</td>\n",
       "      <td>0.495050</td>\n",
       "      <td>...</td>\n",
       "      <td>92.929293</td>\n",
       "      <td>False</td>\n",
       "      <td>True</td>\n",
       "      <td>False</td>\n",
       "      <td>False</td>\n",
       "      <td>False</td>\n",
       "      <td>False</td>\n",
       "      <td>False</td>\n",
       "      <td>True</td>\n",
       "      <td>False</td>\n",
       "    </tr>\n",
       "  </tbody>\n",
       "</table>\n",
       "<p>10 rows × 31 columns</p>\n",
       "</div>"
      ],
      "text/plain": [
       "                           time    mid_o    mid_h    mid_l    mid_c  \\\n",
       "1058  2016-03-09 02:00:00+00:00  159.660  159.884  159.560  159.870   \n",
       "9085  2017-06-22 14:00:00+00:00  140.676  141.128  140.640  140.984   \n",
       "16610 2018-09-07 01:00:00+00:00  142.801  143.024  142.779  142.991   \n",
       "23230 2019-10-01 16:00:00+00:00  131.852  132.896  131.792  132.662   \n",
       "25802 2020-03-02 23:00:00+00:00  138.109  138.572  138.109  138.551   \n",
       "28631 2020-08-13 20:00:00+00:00  139.550  139.754  139.515  139.736   \n",
       "28687 2020-08-18 04:00:00+00:00  138.698  138.802  138.696  138.768   \n",
       "31465 2021-01-28 23:00:00+00:00  143.092  143.173  143.077  143.156   \n",
       "33455 2021-05-25 20:00:00+00:00  153.810  153.954  153.796  153.936   \n",
       "35208 2021-09-05 21:00:00+00:00  152.118  152.277  152.075  152.119   \n",
       "\n",
       "       body_lower  body_upper  body_bottom_perc  body_top_perc  body_perc  \\\n",
       "1058      159.660     159.870         30.864198      95.679012  64.814815   \n",
       "9085      140.676     140.984          7.377049      70.491803  63.114754   \n",
       "16610     142.801     142.991          8.979592      86.530612  77.551020   \n",
       "23230     131.852     132.662          5.434783      78.804348  73.369565   \n",
       "25802     138.109     138.551          0.000000      95.464363  95.464363   \n",
       "28631     139.550     139.736         14.644351      92.468619  77.824268   \n",
       "28687     138.698     138.768          1.886792      67.924528  66.037736   \n",
       "31465     143.092     143.156         15.625000      82.291667  66.666667   \n",
       "33455     153.810     153.936          8.860759      88.607595  79.746835   \n",
       "35208     152.118     152.119         21.287129      21.782178   0.495050   \n",
       "\n",
       "       ...  body_perc_prev_2  HANGING_MAN  SHOOTING_STAR  SPINNING_TOP  \\\n",
       "1058   ...         90.086207        False          False         False   \n",
       "9085   ...         91.777778        False          False         False   \n",
       "16610  ...         90.235690        False          False         False   \n",
       "23230  ...         94.313725        False          False         False   \n",
       "25802  ...         91.612903        False          False         False   \n",
       "28631  ...         95.846645        False          False         False   \n",
       "28687  ...         92.307692        False          False         False   \n",
       "31465  ...         95.774648        False          False         False   \n",
       "33455  ...         91.803279        False          False         False   \n",
       "35208  ...         92.929293        False           True         False   \n",
       "\n",
       "       MARUBOZU  ENGULFING  TWEEZER_TOP  TWEEZER_BOTTOM  MORNING_STAR  \\\n",
       "1058      False       True        False           False          True   \n",
       "9085      False      False        False           False          True   \n",
       "16610     False       True        False           False          True   \n",
       "23230     False      False        False           False          True   \n",
       "25802     False       True        False           False          True   \n",
       "28631     False       True        False           False          True   \n",
       "28687     False       True        False           False          True   \n",
       "31465     False      False        False           False          True   \n",
       "33455     False       True        False           False          True   \n",
       "35208     False      False        False           False          True   \n",
       "\n",
       "       EVENING_STAR  \n",
       "1058          False  \n",
       "9085          False  \n",
       "16610         False  \n",
       "23230         False  \n",
       "25802         False  \n",
       "28631         False  \n",
       "28687         False  \n",
       "31465         False  \n",
       "33455         False  \n",
       "35208         False  \n",
       "\n",
       "[10 rows x 31 columns]"
      ]
     },
     "execution_count": 9,
     "metadata": {},
     "output_type": "execute_result"
    }
   ],
   "source": [
    "df_an[df_an['MORNING_STAR'] == True]"
   ]
  },
  {
   "cell_type": "code",
   "execution_count": 11,
   "id": "653ec6f6-a802-46ba-bbe8-cd7c6ac470af",
   "metadata": {},
   "outputs": [],
   "source": [
    "import plotly.graph_objects as go"
   ]
  },
  {
   "cell_type": "code",
   "execution_count": 19,
   "id": "3492b820-8e52-46a9-bfa8-298cad5d522e",
   "metadata": {},
   "outputs": [
    {
     "data": {
      "application/vnd.plotly.v1+json": {
       "config": {
        "plotlyServerURL": "https://plot.ly"
       },
       "data": [
        {
         "close": [
          151.938,
          152.11,
          151.988,
          152.114,
          152.29,
          152.154,
          152.065,
          152.079,
          152.119,
          152.156,
          152.134,
          152.148,
          152.166,
          152.116,
          152.136,
          152.022,
          152.084,
          152.06,
          152.098,
          152.115,
          152.113,
          152.019,
          152.102,
          152.002,
          151.963,
          151.889,
          151.89,
          151.964,
          151.982,
          151.973,
          151.967,
          151.998,
          152.024,
          151.958,
          151.986,
          152.03,
          152.096,
          152.022,
          152.042,
          151.969,
          151.901,
          152.037,
          152.016,
          151.896,
          151.887,
          151.64,
          151.557,
          151.704,
          151.952,
          151.928,
          151.939,
          151.986,
          152.016,
          152.06,
          151.988,
          152.027,
          152.039,
          152.042,
          151.98,
          152.009,
          152.033,
          152.012,
          151.978,
          151.994,
          152.016,
          151.934,
          151.752,
          151.619,
          151.636,
          151.742,
          151.866,
          151.758,
          151.834,
          151.546,
          151.838,
          151.873,
          151.891,
          151.898,
          151.874,
          151.847,
          151.898,
          151.848,
          151.742,
          151.666,
          151.64,
          151.67,
          151.671,
          151.548,
          151.494,
          151.562,
          151.592,
          151.772,
          151.884,
          151.792,
          152.014,
          152.069,
          152.054,
          152.044,
          152.064,
          152.012
         ],
         "decreasing": {
          "fillcolor": "#CC2E3C",
          "line": {
           "color": "#FF3A4C"
          }
         },
         "high": [
          152.224,
          152.16,
          152.11,
          152.117,
          152.293,
          152.298,
          152.157,
          152.176,
          152.277,
          152.177,
          152.158,
          152.202,
          152.202,
          152.192,
          152.144,
          152.158,
          152.108,
          152.112,
          152.258,
          152.152,
          152.128,
          152.156,
          152.112,
          152.111,
          152.024,
          151.966,
          151.92,
          151.988,
          152.036,
          152.002,
          151.988,
          152.027,
          152.055,
          152.029,
          152.012,
          152.06,
          152.108,
          152.142,
          152.096,
          152.118,
          151.978,
          152.045,
          152.223,
          152.044,
          152.003,
          151.94,
          151.725,
          151.738,
          151.962,
          151.973,
          151.968,
          151.986,
          152.053,
          152.084,
          152.062,
          152.06,
          152.059,
          152.058,
          152.046,
          152.055,
          152.096,
          152.038,
          152.034,
          152.01,
          152.038,
          152.036,
          151.942,
          151.764,
          151.749,
          151.767,
          151.904,
          151.88,
          151.834,
          151.933,
          151.879,
          151.964,
          151.901,
          151.902,
          151.91,
          151.908,
          151.91,
          151.913,
          151.85,
          151.774,
          151.693,
          151.698,
          151.704,
          151.69,
          151.57,
          151.676,
          151.662,
          151.808,
          151.952,
          151.928,
          152.02,
          152.134,
          152.107,
          152.172,
          152.074,
          152.091
         ],
         "increasing": {
          "fillcolor": "#24A06B",
          "line": {
           "color": "#2EC886"
          }
         },
         "line": {
          "width": 1
         },
         "low": [
          151.794,
          151.868,
          151.972,
          151.957,
          152.104,
          152.15,
          152.058,
          151.998,
          152.075,
          151.963,
          152.082,
          152.07,
          152.104,
          152.065,
          152.058,
          151.994,
          151.974,
          152.04,
          152.035,
          152.051,
          152.017,
          151.993,
          151.986,
          151.978,
          151.916,
          151.802,
          151.812,
          151.892,
          151.921,
          151.902,
          151.924,
          151.944,
          151.926,
          151.951,
          151.96,
          151.948,
          152.003,
          151.934,
          152.008,
          151.964,
          151.84,
          151.89,
          151.993,
          151.851,
          151.871,
          151.592,
          151.5,
          151.534,
          151.642,
          151.757,
          151.806,
          151.902,
          151.938,
          151.993,
          151.978,
          151.981,
          151.96,
          152.004,
          151.972,
          151.906,
          151.988,
          151.966,
          151.945,
          151.974,
          151.959,
          151.874,
          151.702,
          151.464,
          151.59,
          151.618,
          151.738,
          151.684,
          151.628,
          151.49,
          151.537,
          151.79,
          151.809,
          151.855,
          151.854,
          151.844,
          151.827,
          151.818,
          151.726,
          151.626,
          151.61,
          151.6,
          151.632,
          151.506,
          151.489,
          151.497,
          151.426,
          151.59,
          151.696,
          151.781,
          151.782,
          151.921,
          151.936,
          151.993,
          151.913,
          152.002
         ],
         "opacity": 1,
         "open": [
          152.156,
          151.945,
          152.107,
          151.991,
          152.118,
          152.288,
          152.157,
          152.063,
          152.118,
          152.144,
          152.158,
          152.131,
          152.15,
          152.164,
          152.118,
          152.138,
          152.024,
          152.082,
          152.062,
          152.1,
          152.112,
          152.116,
          152.021,
          152.104,
          152.004,
          151.961,
          151.887,
          151.892,
          151.966,
          151.984,
          151.97,
          151.962,
          151.979,
          152.029,
          151.96,
          151.988,
          152.026,
          152.094,
          152.02,
          152.045,
          151.972,
          151.899,
          152.034,
          152.014,
          151.894,
          151.89,
          151.642,
          151.555,
          151.702,
          151.954,
          151.926,
          151.936,
          151.984,
          152.018,
          152.055,
          151.99,
          152.006,
          152.049,
          152.038,
          151.978,
          152.006,
          152.036,
          152.01,
          151.982,
          151.998,
          152.019,
          151.932,
          151.75,
          151.617,
          151.634,
          151.74,
          151.868,
          151.756,
          151.832,
          151.543,
          151.84,
          151.87,
          151.889,
          151.896,
          151.872,
          151.827,
          151.893,
          151.85,
          151.744,
          151.668,
          151.642,
          151.666,
          151.668,
          151.546,
          151.497,
          151.566,
          151.59,
          151.769,
          151.882,
          151.794,
          152.017,
          152.067,
          152.056,
          152.04,
          152.061
         ],
         "type": "candlestick",
         "x": [
          "s21-09-03 13:00",
          "s21-09-03 14:00",
          "s21-09-03 15:00",
          "s21-09-03 16:00",
          "s21-09-03 17:00",
          "s21-09-03 18:00",
          "s21-09-03 19:00",
          "s21-09-03 20:00",
          "s21-09-05 21:00",
          "s21-09-05 22:00",
          "s21-09-05 23:00",
          "s21-09-06 00:00",
          "s21-09-06 01:00",
          "s21-09-06 02:00",
          "s21-09-06 03:00",
          "s21-09-06 04:00",
          "s21-09-06 05:00",
          "s21-09-06 06:00",
          "s21-09-06 07:00",
          "s21-09-06 08:00",
          "s21-09-06 09:00",
          "s21-09-06 10:00",
          "s21-09-06 11:00",
          "s21-09-06 12:00",
          "s21-09-06 13:00",
          "s21-09-06 14:00",
          "s21-09-06 15:00",
          "s21-09-06 16:00",
          "s21-09-06 17:00",
          "s21-09-06 18:00",
          "s21-09-06 19:00",
          "s21-09-06 20:00",
          "s21-09-06 21:00",
          "s21-09-06 22:00",
          "s21-09-06 23:00",
          "s21-09-07 00:00",
          "s21-09-07 01:00",
          "s21-09-07 02:00",
          "s21-09-07 03:00",
          "s21-09-07 04:00",
          "s21-09-07 05:00",
          "s21-09-07 06:00",
          "s21-09-07 07:00",
          "s21-09-07 08:00",
          "s21-09-07 09:00",
          "s21-09-07 10:00",
          "s21-09-07 11:00",
          "s21-09-07 12:00",
          "s21-09-07 13:00",
          "s21-09-07 14:00",
          "s21-09-07 15:00",
          "s21-09-07 16:00",
          "s21-09-07 17:00",
          "s21-09-07 18:00",
          "s21-09-07 19:00",
          "s21-09-07 20:00",
          "s21-09-07 21:00",
          "s21-09-07 22:00",
          "s21-09-07 23:00",
          "s21-09-08 00:00",
          "s21-09-08 01:00",
          "s21-09-08 02:00",
          "s21-09-08 03:00",
          "s21-09-08 04:00",
          "s21-09-08 05:00",
          "s21-09-08 06:00",
          "s21-09-08 07:00",
          "s21-09-08 08:00",
          "s21-09-08 09:00",
          "s21-09-08 10:00",
          "s21-09-08 11:00",
          "s21-09-08 12:00",
          "s21-09-08 13:00",
          "s21-09-08 14:00",
          "s21-09-08 15:00",
          "s21-09-08 16:00",
          "s21-09-08 17:00",
          "s21-09-08 18:00",
          "s21-09-08 19:00",
          "s21-09-08 20:00",
          "s21-09-08 21:00",
          "s21-09-08 22:00",
          "s21-09-08 23:00",
          "s21-09-09 00:00",
          "s21-09-09 01:00",
          "s21-09-09 02:00",
          "s21-09-09 03:00",
          "s21-09-09 04:00",
          "s21-09-09 05:00",
          "s21-09-09 06:00",
          "s21-09-09 07:00",
          "s21-09-09 08:00",
          "s21-09-09 09:00",
          "s21-09-09 10:00",
          "s21-09-09 11:00",
          "s21-09-09 12:00",
          "s21-09-09 13:00",
          "s21-09-09 14:00",
          "s21-09-09 15:00",
          "s21-09-09 16:00"
         ]
        },
        {
         "close": [
          152.119
         ],
         "decreasing": {
          "fillcolor": "#0066FF",
          "line": {
           "color": "#0066FF"
          }
         },
         "high": [
          152.277
         ],
         "increasing": {
          "fillcolor": "#0066FF",
          "line": {
           "color": "#0066FF"
          }
         },
         "line": {
          "width": 1
         },
         "low": [
          152.075
         ],
         "opacity": 1,
         "open": [
          152.118
         ],
         "type": "candlestick",
         "x": [
          "s21-09-05 21:00"
         ]
        }
       ],
       "layout": {
        "font": {
         "color": "#e1e1e1",
         "size": 8
        },
        "height": 400,
        "margin": {
         "b": 10,
         "l": 10,
         "r": 10,
         "t": 10
        },
        "paper_bgcolor": "#2c303c",
        "plot_bgcolor": "#2c303c",
        "template": {
         "data": {
          "bar": [
           {
            "error_x": {
             "color": "#2a3f5f"
            },
            "error_y": {
             "color": "#2a3f5f"
            },
            "marker": {
             "line": {
              "color": "#E5ECF6",
              "width": 0.5
             },
             "pattern": {
              "fillmode": "overlay",
              "size": 10,
              "solidity": 0.2
             }
            },
            "type": "bar"
           }
          ],
          "barpolar": [
           {
            "marker": {
             "line": {
              "color": "#E5ECF6",
              "width": 0.5
             },
             "pattern": {
              "fillmode": "overlay",
              "size": 10,
              "solidity": 0.2
             }
            },
            "type": "barpolar"
           }
          ],
          "carpet": [
           {
            "aaxis": {
             "endlinecolor": "#2a3f5f",
             "gridcolor": "white",
             "linecolor": "white",
             "minorgridcolor": "white",
             "startlinecolor": "#2a3f5f"
            },
            "baxis": {
             "endlinecolor": "#2a3f5f",
             "gridcolor": "white",
             "linecolor": "white",
             "minorgridcolor": "white",
             "startlinecolor": "#2a3f5f"
            },
            "type": "carpet"
           }
          ],
          "choropleth": [
           {
            "colorbar": {
             "outlinewidth": 0,
             "ticks": ""
            },
            "type": "choropleth"
           }
          ],
          "contour": [
           {
            "colorbar": {
             "outlinewidth": 0,
             "ticks": ""
            },
            "colorscale": [
             [
              0,
              "#0d0887"
             ],
             [
              0.1111111111111111,
              "#46039f"
             ],
             [
              0.2222222222222222,
              "#7201a8"
             ],
             [
              0.3333333333333333,
              "#9c179e"
             ],
             [
              0.4444444444444444,
              "#bd3786"
             ],
             [
              0.5555555555555556,
              "#d8576b"
             ],
             [
              0.6666666666666666,
              "#ed7953"
             ],
             [
              0.7777777777777778,
              "#fb9f3a"
             ],
             [
              0.8888888888888888,
              "#fdca26"
             ],
             [
              1,
              "#f0f921"
             ]
            ],
            "type": "contour"
           }
          ],
          "contourcarpet": [
           {
            "colorbar": {
             "outlinewidth": 0,
             "ticks": ""
            },
            "type": "contourcarpet"
           }
          ],
          "heatmap": [
           {
            "colorbar": {
             "outlinewidth": 0,
             "ticks": ""
            },
            "colorscale": [
             [
              0,
              "#0d0887"
             ],
             [
              0.1111111111111111,
              "#46039f"
             ],
             [
              0.2222222222222222,
              "#7201a8"
             ],
             [
              0.3333333333333333,
              "#9c179e"
             ],
             [
              0.4444444444444444,
              "#bd3786"
             ],
             [
              0.5555555555555556,
              "#d8576b"
             ],
             [
              0.6666666666666666,
              "#ed7953"
             ],
             [
              0.7777777777777778,
              "#fb9f3a"
             ],
             [
              0.8888888888888888,
              "#fdca26"
             ],
             [
              1,
              "#f0f921"
             ]
            ],
            "type": "heatmap"
           }
          ],
          "heatmapgl": [
           {
            "colorbar": {
             "outlinewidth": 0,
             "ticks": ""
            },
            "colorscale": [
             [
              0,
              "#0d0887"
             ],
             [
              0.1111111111111111,
              "#46039f"
             ],
             [
              0.2222222222222222,
              "#7201a8"
             ],
             [
              0.3333333333333333,
              "#9c179e"
             ],
             [
              0.4444444444444444,
              "#bd3786"
             ],
             [
              0.5555555555555556,
              "#d8576b"
             ],
             [
              0.6666666666666666,
              "#ed7953"
             ],
             [
              0.7777777777777778,
              "#fb9f3a"
             ],
             [
              0.8888888888888888,
              "#fdca26"
             ],
             [
              1,
              "#f0f921"
             ]
            ],
            "type": "heatmapgl"
           }
          ],
          "histogram": [
           {
            "marker": {
             "pattern": {
              "fillmode": "overlay",
              "size": 10,
              "solidity": 0.2
             }
            },
            "type": "histogram"
           }
          ],
          "histogram2d": [
           {
            "colorbar": {
             "outlinewidth": 0,
             "ticks": ""
            },
            "colorscale": [
             [
              0,
              "#0d0887"
             ],
             [
              0.1111111111111111,
              "#46039f"
             ],
             [
              0.2222222222222222,
              "#7201a8"
             ],
             [
              0.3333333333333333,
              "#9c179e"
             ],
             [
              0.4444444444444444,
              "#bd3786"
             ],
             [
              0.5555555555555556,
              "#d8576b"
             ],
             [
              0.6666666666666666,
              "#ed7953"
             ],
             [
              0.7777777777777778,
              "#fb9f3a"
             ],
             [
              0.8888888888888888,
              "#fdca26"
             ],
             [
              1,
              "#f0f921"
             ]
            ],
            "type": "histogram2d"
           }
          ],
          "histogram2dcontour": [
           {
            "colorbar": {
             "outlinewidth": 0,
             "ticks": ""
            },
            "colorscale": [
             [
              0,
              "#0d0887"
             ],
             [
              0.1111111111111111,
              "#46039f"
             ],
             [
              0.2222222222222222,
              "#7201a8"
             ],
             [
              0.3333333333333333,
              "#9c179e"
             ],
             [
              0.4444444444444444,
              "#bd3786"
             ],
             [
              0.5555555555555556,
              "#d8576b"
             ],
             [
              0.6666666666666666,
              "#ed7953"
             ],
             [
              0.7777777777777778,
              "#fb9f3a"
             ],
             [
              0.8888888888888888,
              "#fdca26"
             ],
             [
              1,
              "#f0f921"
             ]
            ],
            "type": "histogram2dcontour"
           }
          ],
          "mesh3d": [
           {
            "colorbar": {
             "outlinewidth": 0,
             "ticks": ""
            },
            "type": "mesh3d"
           }
          ],
          "parcoords": [
           {
            "line": {
             "colorbar": {
              "outlinewidth": 0,
              "ticks": ""
             }
            },
            "type": "parcoords"
           }
          ],
          "pie": [
           {
            "automargin": true,
            "type": "pie"
           }
          ],
          "scatter": [
           {
            "fillpattern": {
             "fillmode": "overlay",
             "size": 10,
             "solidity": 0.2
            },
            "type": "scatter"
           }
          ],
          "scatter3d": [
           {
            "line": {
             "colorbar": {
              "outlinewidth": 0,
              "ticks": ""
             }
            },
            "marker": {
             "colorbar": {
              "outlinewidth": 0,
              "ticks": ""
             }
            },
            "type": "scatter3d"
           }
          ],
          "scattercarpet": [
           {
            "marker": {
             "colorbar": {
              "outlinewidth": 0,
              "ticks": ""
             }
            },
            "type": "scattercarpet"
           }
          ],
          "scattergeo": [
           {
            "marker": {
             "colorbar": {
              "outlinewidth": 0,
              "ticks": ""
             }
            },
            "type": "scattergeo"
           }
          ],
          "scattergl": [
           {
            "marker": {
             "colorbar": {
              "outlinewidth": 0,
              "ticks": ""
             }
            },
            "type": "scattergl"
           }
          ],
          "scattermapbox": [
           {
            "marker": {
             "colorbar": {
              "outlinewidth": 0,
              "ticks": ""
             }
            },
            "type": "scattermapbox"
           }
          ],
          "scatterpolar": [
           {
            "marker": {
             "colorbar": {
              "outlinewidth": 0,
              "ticks": ""
             }
            },
            "type": "scatterpolar"
           }
          ],
          "scatterpolargl": [
           {
            "marker": {
             "colorbar": {
              "outlinewidth": 0,
              "ticks": ""
             }
            },
            "type": "scatterpolargl"
           }
          ],
          "scatterternary": [
           {
            "marker": {
             "colorbar": {
              "outlinewidth": 0,
              "ticks": ""
             }
            },
            "type": "scatterternary"
           }
          ],
          "surface": [
           {
            "colorbar": {
             "outlinewidth": 0,
             "ticks": ""
            },
            "colorscale": [
             [
              0,
              "#0d0887"
             ],
             [
              0.1111111111111111,
              "#46039f"
             ],
             [
              0.2222222222222222,
              "#7201a8"
             ],
             [
              0.3333333333333333,
              "#9c179e"
             ],
             [
              0.4444444444444444,
              "#bd3786"
             ],
             [
              0.5555555555555556,
              "#d8576b"
             ],
             [
              0.6666666666666666,
              "#ed7953"
             ],
             [
              0.7777777777777778,
              "#fb9f3a"
             ],
             [
              0.8888888888888888,
              "#fdca26"
             ],
             [
              1,
              "#f0f921"
             ]
            ],
            "type": "surface"
           }
          ],
          "table": [
           {
            "cells": {
             "fill": {
              "color": "#EBF0F8"
             },
             "line": {
              "color": "white"
             }
            },
            "header": {
             "fill": {
              "color": "#C8D4E3"
             },
             "line": {
              "color": "white"
             }
            },
            "type": "table"
           }
          ]
         },
         "layout": {
          "annotationdefaults": {
           "arrowcolor": "#2a3f5f",
           "arrowhead": 0,
           "arrowwidth": 1
          },
          "autotypenumbers": "strict",
          "coloraxis": {
           "colorbar": {
            "outlinewidth": 0,
            "ticks": ""
           }
          },
          "colorscale": {
           "diverging": [
            [
             0,
             "#8e0152"
            ],
            [
             0.1,
             "#c51b7d"
            ],
            [
             0.2,
             "#de77ae"
            ],
            [
             0.3,
             "#f1b6da"
            ],
            [
             0.4,
             "#fde0ef"
            ],
            [
             0.5,
             "#f7f7f7"
            ],
            [
             0.6,
             "#e6f5d0"
            ],
            [
             0.7,
             "#b8e186"
            ],
            [
             0.8,
             "#7fbc41"
            ],
            [
             0.9,
             "#4d9221"
            ],
            [
             1,
             "#276419"
            ]
           ],
           "sequential": [
            [
             0,
             "#0d0887"
            ],
            [
             0.1111111111111111,
             "#46039f"
            ],
            [
             0.2222222222222222,
             "#7201a8"
            ],
            [
             0.3333333333333333,
             "#9c179e"
            ],
            [
             0.4444444444444444,
             "#bd3786"
            ],
            [
             0.5555555555555556,
             "#d8576b"
            ],
            [
             0.6666666666666666,
             "#ed7953"
            ],
            [
             0.7777777777777778,
             "#fb9f3a"
            ],
            [
             0.8888888888888888,
             "#fdca26"
            ],
            [
             1,
             "#f0f921"
            ]
           ],
           "sequentialminus": [
            [
             0,
             "#0d0887"
            ],
            [
             0.1111111111111111,
             "#46039f"
            ],
            [
             0.2222222222222222,
             "#7201a8"
            ],
            [
             0.3333333333333333,
             "#9c179e"
            ],
            [
             0.4444444444444444,
             "#bd3786"
            ],
            [
             0.5555555555555556,
             "#d8576b"
            ],
            [
             0.6666666666666666,
             "#ed7953"
            ],
            [
             0.7777777777777778,
             "#fb9f3a"
            ],
            [
             0.8888888888888888,
             "#fdca26"
            ],
            [
             1,
             "#f0f921"
            ]
           ]
          },
          "colorway": [
           "#636efa",
           "#EF553B",
           "#00cc96",
           "#ab63fa",
           "#FFA15A",
           "#19d3f3",
           "#FF6692",
           "#B6E880",
           "#FF97FF",
           "#FECB52"
          ],
          "font": {
           "color": "#2a3f5f"
          },
          "geo": {
           "bgcolor": "white",
           "lakecolor": "white",
           "landcolor": "#E5ECF6",
           "showlakes": true,
           "showland": true,
           "subunitcolor": "white"
          },
          "hoverlabel": {
           "align": "left"
          },
          "hovermode": "closest",
          "mapbox": {
           "style": "light"
          },
          "paper_bgcolor": "white",
          "plot_bgcolor": "#E5ECF6",
          "polar": {
           "angularaxis": {
            "gridcolor": "white",
            "linecolor": "white",
            "ticks": ""
           },
           "bgcolor": "#E5ECF6",
           "radialaxis": {
            "gridcolor": "white",
            "linecolor": "white",
            "ticks": ""
           }
          },
          "scene": {
           "xaxis": {
            "backgroundcolor": "#E5ECF6",
            "gridcolor": "white",
            "gridwidth": 2,
            "linecolor": "white",
            "showbackground": true,
            "ticks": "",
            "zerolinecolor": "white"
           },
           "yaxis": {
            "backgroundcolor": "#E5ECF6",
            "gridcolor": "white",
            "gridwidth": 2,
            "linecolor": "white",
            "showbackground": true,
            "ticks": "",
            "zerolinecolor": "white"
           },
           "zaxis": {
            "backgroundcolor": "#E5ECF6",
            "gridcolor": "white",
            "gridwidth": 2,
            "linecolor": "white",
            "showbackground": true,
            "ticks": "",
            "zerolinecolor": "white"
           }
          },
          "shapedefaults": {
           "line": {
            "color": "#2a3f5f"
           }
          },
          "ternary": {
           "aaxis": {
            "gridcolor": "white",
            "linecolor": "white",
            "ticks": ""
           },
           "baxis": {
            "gridcolor": "white",
            "linecolor": "white",
            "ticks": ""
           },
           "bgcolor": "#E5ECF6",
           "caxis": {
            "gridcolor": "white",
            "linecolor": "white",
            "ticks": ""
           }
          },
          "title": {
           "x": 0.05
          },
          "xaxis": {
           "automargin": true,
           "gridcolor": "white",
           "linecolor": "white",
           "ticks": "",
           "title": {
            "standoff": 15
           },
           "zerolinecolor": "white",
           "zerolinewidth": 2
          },
          "yaxis": {
           "automargin": true,
           "gridcolor": "white",
           "linecolor": "white",
           "ticks": "",
           "title": {
            "standoff": 15
           },
           "zerolinecolor": "white",
           "zerolinewidth": 2
          }
         }
        },
        "width": 900,
        "xaxis": {
         "anchor": "y",
         "autorange": true,
         "domain": [
          0,
          0.94
         ],
         "gridcolor": "#1f292f",
         "nticks": 5,
         "range": [
          -0.5,
          99.5
         ],
         "rangeslider": {
          "visible": false,
          "yaxis": {}
         },
         "type": "category"
        },
        "yaxis": {
         "anchor": "x",
         "autorange": true,
         "domain": [
          0,
          1
         ],
         "gridcolor": "#1f292f",
         "range": [
          151.37755555555555,
          152.34644444444444
         ]
        },
        "yaxis2": {
         "anchor": "x",
         "gridcolor": "#1f292f",
         "overlaying": "y",
         "side": "right"
        }
       }
      },
      "image/png": "[encoded data removed]",
      "text/html": [
       "<div>                            <div id=\"d9d6f126-77c4-4d7d-93ef-f36d563fdf90\" class=\"plotly-graph-div\" style=\"height:400px; width:900px;\"></div>            <script type=\"text/javascript\">                require([\"plotly\"], function(Plotly) {                    window.PLOTLYENV=window.PLOTLYENV || {};                                    if (document.getElementById(\"d9d6f126-77c4-4d7d-93ef-f36d563fdf90\")) {                    Plotly.newPlot(                        \"d9d6f126-77c4-4d7d-93ef-f36d563fdf90\",                        [{\"close\":[151.938,152.11,151.988,152.114,152.29,152.154,152.065,152.079,152.119,152.156,152.134,152.148,152.166,152.116,152.136,152.022,152.084,152.06,152.098,152.115,152.113,152.019,152.102,152.002,151.963,151.889,151.89,151.964,151.982,151.973,151.967,151.998,152.024,151.958,151.986,152.03,152.096,152.022,152.042,151.969,151.901,152.037,152.016,151.896,151.887,151.64,151.557,151.704,151.952,151.928,151.939,151.986,152.016,152.06,151.988,152.027,152.039,152.042,151.98,152.009,152.033,152.012,151.978,151.994,152.016,151.934,151.752,151.619,151.636,151.742,151.866,151.758,151.834,151.546,151.838,151.873,151.891,151.898,151.874,151.847,151.898,151.848,151.742,151.666,151.64,151.67,151.671,151.548,151.494,151.562,151.592,151.772,151.884,151.792,152.014,152.069,152.054,152.044,152.064,152.012],\"decreasing\":{\"fillcolor\":\"#CC2E3C\",\"line\":{\"color\":\"#FF3A4C\"}},\"high\":[152.224,152.16,152.11,152.117,152.293,152.298,152.157,152.176,152.277,152.177,152.158,152.202,152.202,152.192,152.144,152.158,152.108,152.112,152.258,152.152,152.128,152.156,152.112,152.111,152.024,151.966,151.92,151.988,152.036,152.002,151.988,152.027,152.055,152.029,152.012,152.06,152.108,152.142,152.096,152.118,151.978,152.045,152.223,152.044,152.003,151.94,151.725,151.738,151.962,151.973,151.968,151.986,152.053,152.084,152.062,152.06,152.059,152.058,152.046,152.055,152.096,152.038,152.034,152.01,152.038,152.036,151.942,151.764,151.749,151.767,151.904,151.88,151.834,151.933,151.879,151.964,151.901,151.902,151.91,151.908,151.91,151.913,151.85,151.774,151.693,151.698,151.704,151.69,151.57,151.676,151.662,151.808,151.952,151.928,152.02,152.134,152.107,152.172,152.074,152.091],\"increasing\":{\"fillcolor\":\"#24A06B\",\"line\":{\"color\":\"#2EC886\"}},\"line\":{\"width\":1},\"low\":[151.794,151.868,151.972,151.957,152.104,152.15,152.058,151.998,152.075,151.963,152.082,152.07,152.104,152.065,152.058,151.994,151.974,152.04,152.035,152.051,152.017,151.993,151.986,151.978,151.916,151.802,151.812,151.892,151.921,151.902,151.924,151.944,151.926,151.951,151.96,151.948,152.003,151.934,152.008,151.964,151.84,151.89,151.993,151.851,151.871,151.592,151.5,151.534,151.642,151.757,151.806,151.902,151.938,151.993,151.978,151.981,151.96,152.004,151.972,151.906,151.988,151.966,151.945,151.974,151.959,151.874,151.702,151.464,151.59,151.618,151.738,151.684,151.628,151.49,151.537,151.79,151.809,151.855,151.854,151.844,151.827,151.818,151.726,151.626,151.61,151.6,151.632,151.506,151.489,151.497,151.426,151.59,151.696,151.781,151.782,151.921,151.936,151.993,151.913,152.002],\"opacity\":1,\"open\":[152.156,151.945,152.107,151.991,152.118,152.288,152.157,152.063,152.118,152.144,152.158,152.131,152.15,152.164,152.118,152.138,152.024,152.082,152.062,152.1,152.112,152.116,152.021,152.104,152.004,151.961,151.887,151.892,151.966,151.984,151.97,151.962,151.979,152.029,151.96,151.988,152.026,152.094,152.02,152.045,151.972,151.899,152.034,152.014,151.894,151.89,151.642,151.555,151.702,151.954,151.926,151.936,151.984,152.018,152.055,151.99,152.006,152.049,152.038,151.978,152.006,152.036,152.01,151.982,151.998,152.019,151.932,151.75,151.617,151.634,151.74,151.868,151.756,151.832,151.543,151.84,151.87,151.889,151.896,151.872,151.827,151.893,151.85,151.744,151.668,151.642,151.666,151.668,151.546,151.497,151.566,151.59,151.769,151.882,151.794,152.017,152.067,152.056,152.04,152.061],\"x\":[\"s21-09-03 13:00\",\"s21-09-03 14:00\",\"s21-09-03 15:00\",\"s21-09-03 16:00\",\"s21-09-03 17:00\",\"s21-09-03 18:00\",\"s21-09-03 19:00\",\"s21-09-03 20:00\",\"s21-09-05 21:00\",\"s21-09-05 22:00\",\"s21-09-05 23:00\",\"s21-09-06 00:00\",\"s21-09-06 01:00\",\"s21-09-06 02:00\",\"s21-09-06 03:00\",\"s21-09-06 04:00\",\"s21-09-06 05:00\",\"s21-09-06 06:00\",\"s21-09-06 07:00\",\"s21-09-06 08:00\",\"s21-09-06 09:00\",\"s21-09-06 10:00\",\"s21-09-06 11:00\",\"s21-09-06 12:00\",\"s21-09-06 13:00\",\"s21-09-06 14:00\",\"s21-09-06 15:00\",\"s21-09-06 16:00\",\"s21-09-06 17:00\",\"s21-09-06 18:00\",\"s21-09-06 19:00\",\"s21-09-06 20:00\",\"s21-09-06 21:00\",\"s21-09-06 22:00\",\"s21-09-06 23:00\",\"s21-09-07 00:00\",\"s21-09-07 01:00\",\"s21-09-07 02:00\",\"s21-09-07 03:00\",\"s21-09-07 04:00\",\"s21-09-07 05:00\",\"s21-09-07 06:00\",\"s21-09-07 07:00\",\"s21-09-07 08:00\",\"s21-09-07 09:00\",\"s21-09-07 10:00\",\"s21-09-07 11:00\",\"s21-09-07 12:00\",\"s21-09-07 13:00\",\"s21-09-07 14:00\",\"s21-09-07 15:00\",\"s21-09-07 16:00\",\"s21-09-07 17:00\",\"s21-09-07 18:00\",\"s21-09-07 19:00\",\"s21-09-07 20:00\",\"s21-09-07 21:00\",\"s21-09-07 22:00\",\"s21-09-07 23:00\",\"s21-09-08 00:00\",\"s21-09-08 01:00\",\"s21-09-08 02:00\",\"s21-09-08 03:00\",\"s21-09-08 04:00\",\"s21-09-08 05:00\",\"s21-09-08 06:00\",\"s21-09-08 07:00\",\"s21-09-08 08:00\",\"s21-09-08 09:00\",\"s21-09-08 10:00\",\"s21-09-08 11:00\",\"s21-09-08 12:00\",\"s21-09-08 13:00\",\"s21-09-08 14:00\",\"s21-09-08 15:00\",\"s21-09-08 16:00\",\"s21-09-08 17:00\",\"s21-09-08 18:00\",\"s21-09-08 19:00\",\"s21-09-08 20:00\",\"s21-09-08 21:00\",\"s21-09-08 22:00\",\"s21-09-08 23:00\",\"s21-09-09 00:00\",\"s21-09-09 01:00\",\"s21-09-09 02:00\",\"s21-09-09 03:00\",\"s21-09-09 04:00\",\"s21-09-09 05:00\",\"s21-09-09 06:00\",\"s21-09-09 07:00\",\"s21-09-09 08:00\",\"s21-09-09 09:00\",\"s21-09-09 10:00\",\"s21-09-09 11:00\",\"s21-09-09 12:00\",\"s21-09-09 13:00\",\"s21-09-09 14:00\",\"s21-09-09 15:00\",\"s21-09-09 16:00\"],\"type\":\"candlestick\"},{\"close\":[152.119],\"decreasing\":{\"fillcolor\":\"#0066FF\",\"line\":{\"color\":\"#0066FF\"}},\"high\":[152.277],\"increasing\":{\"fillcolor\":\"#0066FF\",\"line\":{\"color\":\"#0066FF\"}},\"line\":{\"width\":1},\"low\":[152.075],\"opacity\":1,\"open\":[152.118],\"x\":[\"s21-09-05 21:00\"],\"type\":\"candlestick\"}],                        {\"template\":{\"data\":{\"histogram2dcontour\":[{\"type\":\"histogram2dcontour\",\"colorbar\":{\"outlinewidth\":0,\"ticks\":\"\"},\"colorscale\":[[0.0,\"#0d0887\"],[0.1111111111111111,\"#46039f\"],[0.2222222222222222,\"#7201a8\"],[0.3333333333333333,\"#9c179e\"],[0.4444444444444444,\"#bd3786\"],[0.5555555555555556,\"#d8576b\"],[0.6666666666666666,\"#ed7953\"],[0.7777777777777778,\"#fb9f3a\"],[0.8888888888888888,\"#fdca26\"],[1.0,\"#f0f921\"]]}],\"choropleth\":[{\"type\":\"choropleth\",\"colorbar\":{\"outlinewidth\":0,\"ticks\":\"\"}}],\"histogram2d\":[{\"type\":\"histogram2d\",\"colorbar\":{\"outlinewidth\":0,\"ticks\":\"\"},\"colorscale\":[[0.0,\"#0d0887\"],[0.1111111111111111,\"#46039f\"],[0.2222222222222222,\"#7201a8\"],[0.3333333333333333,\"#9c179e\"],[0.4444444444444444,\"#bd3786\"],[0.5555555555555556,\"#d8576b\"],[0.6666666666666666,\"#ed7953\"],[0.7777777777777778,\"#fb9f3a\"],[0.8888888888888888,\"#fdca26\"],[1.0,\"#f0f921\"]]}],\"heatmap\":[{\"type\":\"heatmap\",\"colorbar\":{\"outlinewidth\":0,\"ticks\":\"\"},\"colorscale\":[[0.0,\"#0d0887\"],[0.1111111111111111,\"#46039f\"],[0.2222222222222222,\"#7201a8\"],[0.3333333333333333,\"#9c179e\"],[0.4444444444444444,\"#bd3786\"],[0.5555555555555556,\"#d8576b\"],[0.6666666666666666,\"#ed7953\"],[0.7777777777777778,\"#fb9f3a\"],[0.8888888888888888,\"#fdca26\"],[1.0,\"#f0f921\"]]}],\"heatmapgl\":[{\"type\":\"heatmapgl\",\"colorbar\":{\"outlinewidth\":0,\"ticks\":\"\"},\"colorscale\":[[0.0,\"#0d0887\"],[0.1111111111111111,\"#46039f\"],[0.2222222222222222,\"#7201a8\"],[0.3333333333333333,\"#9c179e\"],[0.4444444444444444,\"#bd3786\"],[0.5555555555555556,\"#d8576b\"],[0.6666666666666666,\"#ed7953\"],[0.7777777777777778,\"#fb9f3a\"],[0.8888888888888888,\"#fdca26\"],[1.0,\"#f0f921\"]]}],\"contourcarpet\":[{\"type\":\"contourcarpet\",\"colorbar\":{\"outlinewidth\":0,\"ticks\":\"\"}}],\"contour\":[{\"type\":\"contour\",\"colorbar\":{\"outlinewidth\":0,\"ticks\":\"\"},\"colorscale\":[[0.0,\"#0d0887\"],[0.1111111111111111,\"#46039f\"],[0.2222222222222222,\"#7201a8\"],[0.3333333333333333,\"#9c179e\"],[0.4444444444444444,\"#bd3786\"],[0.5555555555555556,\"#d8576b\"],[0.6666666666666666,\"#ed7953\"],[0.7777777777777778,\"#fb9f3a\"],[0.8888888888888888,\"#fdca26\"],[1.0,\"#f0f921\"]]}],\"surface\":[{\"type\":\"surface\",\"colorbar\":{\"outlinewidth\":0,\"ticks\":\"\"},\"colorscale\":[[0.0,\"#0d0887\"],[0.1111111111111111,\"#46039f\"],[0.2222222222222222,\"#7201a8\"],[0.3333333333333333,\"#9c179e\"],[0.4444444444444444,\"#bd3786\"],[0.5555555555555556,\"#d8576b\"],[0.6666666666666666,\"#ed7953\"],[0.7777777777777778,\"#fb9f3a\"],[0.8888888888888888,\"#fdca26\"],[1.0,\"#f0f921\"]]}],\"mesh3d\":[{\"type\":\"mesh3d\",\"colorbar\":{\"outlinewidth\":0,\"ticks\":\"\"}}],\"scatter\":[{\"fillpattern\":{\"fillmode\":\"overlay\",\"size\":10,\"solidity\":0.2},\"type\":\"scatter\"}],\"parcoords\":[{\"type\":\"parcoords\",\"line\":{\"colorbar\":{\"outlinewidth\":0,\"ticks\":\"\"}}}],\"scatterpolargl\":[{\"type\":\"scatterpolargl\",\"marker\":{\"colorbar\":{\"outlinewidth\":0,\"ticks\":\"\"}}}],\"bar\":[{\"error_x\":{\"color\":\"#2a3f5f\"},\"error_y\":{\"color\":\"#2a3f5f\"},\"marker\":{\"line\":{\"color\":\"#E5ECF6\",\"width\":0.5},\"pattern\":{\"fillmode\":\"overlay\",\"size\":10,\"solidity\":0.2}},\"type\":\"bar\"}],\"scattergeo\":[{\"type\":\"scattergeo\",\"marker\":{\"colorbar\":{\"outlinewidth\":0,\"ticks\":\"\"}}}],\"scatterpolar\":[{\"type\":\"scatterpolar\",\"marker\":{\"colorbar\":{\"outlinewidth\":0,\"ticks\":\"\"}}}],\"histogram\":[{\"marker\":{\"pattern\":{\"fillmode\":\"overlay\",\"size\":10,\"solidity\":0.2}},\"type\":\"histogram\"}],\"scattergl\":[{\"type\":\"scattergl\",\"marker\":{\"colorbar\":{\"outlinewidth\":0,\"ticks\":\"\"}}}],\"scatter3d\":[{\"type\":\"scatter3d\",\"line\":{\"colorbar\":{\"outlinewidth\":0,\"ticks\":\"\"}},\"marker\":{\"colorbar\":{\"outlinewidth\":0,\"ticks\":\"\"}}}],\"scattermapbox\":[{\"type\":\"scattermapbox\",\"marker\":{\"colorbar\":{\"outlinewidth\":0,\"ticks\":\"\"}}}],\"scatterternary\":[{\"type\":\"scatterternary\",\"marker\":{\"colorbar\":{\"outlinewidth\":0,\"ticks\":\"\"}}}],\"scattercarpet\":[{\"type\":\"scattercarpet\",\"marker\":{\"colorbar\":{\"outlinewidth\":0,\"ticks\":\"\"}}}],\"carpet\":[{\"aaxis\":{\"endlinecolor\":\"#2a3f5f\",\"gridcolor\":\"white\",\"linecolor\":\"white\",\"minorgridcolor\":\"white\",\"startlinecolor\":\"#2a3f5f\"},\"baxis\":{\"endlinecolor\":\"#2a3f5f\",\"gridcolor\":\"white\",\"linecolor\":\"white\",\"minorgridcolor\":\"white\",\"startlinecolor\":\"#2a3f5f\"},\"type\":\"carpet\"}],\"table\":[{\"cells\":{\"fill\":{\"color\":\"#EBF0F8\"},\"line\":{\"color\":\"white\"}},\"header\":{\"fill\":{\"color\":\"#C8D4E3\"},\"line\":{\"color\":\"white\"}},\"type\":\"table\"}],\"barpolar\":[{\"marker\":{\"line\":{\"color\":\"#E5ECF6\",\"width\":0.5},\"pattern\":{\"fillmode\":\"overlay\",\"size\":10,\"solidity\":0.2}},\"type\":\"barpolar\"}],\"pie\":[{\"automargin\":true,\"type\":\"pie\"}]},\"layout\":{\"autotypenumbers\":\"strict\",\"colorway\":[\"#636efa\",\"#EF553B\",\"#00cc96\",\"#ab63fa\",\"#FFA15A\",\"#19d3f3\",\"#FF6692\",\"#B6E880\",\"#FF97FF\",\"#FECB52\"],\"font\":{\"color\":\"#2a3f5f\"},\"hovermode\":\"closest\",\"hoverlabel\":{\"align\":\"left\"},\"paper_bgcolor\":\"white\",\"plot_bgcolor\":\"#E5ECF6\",\"polar\":{\"bgcolor\":\"#E5ECF6\",\"angularaxis\":{\"gridcolor\":\"white\",\"linecolor\":\"white\",\"ticks\":\"\"},\"radialaxis\":{\"gridcolor\":\"white\",\"linecolor\":\"white\",\"ticks\":\"\"}},\"ternary\":{\"bgcolor\":\"#E5ECF6\",\"aaxis\":{\"gridcolor\":\"white\",\"linecolor\":\"white\",\"ticks\":\"\"},\"baxis\":{\"gridcolor\":\"white\",\"linecolor\":\"white\",\"ticks\":\"\"},\"caxis\":{\"gridcolor\":\"white\",\"linecolor\":\"white\",\"ticks\":\"\"}},\"coloraxis\":{\"colorbar\":{\"outlinewidth\":0,\"ticks\":\"\"}},\"colorscale\":{\"sequential\":[[0.0,\"#0d0887\"],[0.1111111111111111,\"#46039f\"],[0.2222222222222222,\"#7201a8\"],[0.3333333333333333,\"#9c179e\"],[0.4444444444444444,\"#bd3786\"],[0.5555555555555556,\"#d8576b\"],[0.6666666666666666,\"#ed7953\"],[0.7777777777777778,\"#fb9f3a\"],[0.8888888888888888,\"#fdca26\"],[1.0,\"#f0f921\"]],\"sequentialminus\":[[0.0,\"#0d0887\"],[0.1111111111111111,\"#46039f\"],[0.2222222222222222,\"#7201a8\"],[0.3333333333333333,\"#9c179e\"],[0.4444444444444444,\"#bd3786\"],[0.5555555555555556,\"#d8576b\"],[0.6666666666666666,\"#ed7953\"],[0.7777777777777778,\"#fb9f3a\"],[0.8888888888888888,\"#fdca26\"],[1.0,\"#f0f921\"]],\"diverging\":[[0,\"#8e0152\"],[0.1,\"#c51b7d\"],[0.2,\"#de77ae\"],[0.3,\"#f1b6da\"],[0.4,\"#fde0ef\"],[0.5,\"#f7f7f7\"],[0.6,\"#e6f5d0\"],[0.7,\"#b8e186\"],[0.8,\"#7fbc41\"],[0.9,\"#4d9221\"],[1,\"#276419\"]]},\"xaxis\":{\"gridcolor\":\"white\",\"linecolor\":\"white\",\"ticks\":\"\",\"title\":{\"standoff\":15},\"zerolinecolor\":\"white\",\"automargin\":true,\"zerolinewidth\":2},\"yaxis\":{\"gridcolor\":\"white\",\"linecolor\":\"white\",\"ticks\":\"\",\"title\":{\"standoff\":15},\"zerolinecolor\":\"white\",\"automargin\":true,\"zerolinewidth\":2},\"scene\":{\"xaxis\":{\"backgroundcolor\":\"#E5ECF6\",\"gridcolor\":\"white\",\"linecolor\":\"white\",\"showbackground\":true,\"ticks\":\"\",\"zerolinecolor\":\"white\",\"gridwidth\":2},\"yaxis\":{\"backgroundcolor\":\"#E5ECF6\",\"gridcolor\":\"white\",\"linecolor\":\"white\",\"showbackground\":true,\"ticks\":\"\",\"zerolinecolor\":\"white\",\"gridwidth\":2},\"zaxis\":{\"backgroundcolor\":\"#E5ECF6\",\"gridcolor\":\"white\",\"linecolor\":\"white\",\"showbackground\":true,\"ticks\":\"\",\"zerolinecolor\":\"white\",\"gridwidth\":2}},\"shapedefaults\":{\"line\":{\"color\":\"#2a3f5f\"}},\"annotationdefaults\":{\"arrowcolor\":\"#2a3f5f\",\"arrowhead\":0,\"arrowwidth\":1},\"geo\":{\"bgcolor\":\"white\",\"landcolor\":\"#E5ECF6\",\"subunitcolor\":\"white\",\"showland\":true,\"showlakes\":true,\"lakecolor\":\"white\"},\"title\":{\"x\":0.05},\"mapbox\":{\"style\":\"light\"}}},\"xaxis\":{\"anchor\":\"y\",\"domain\":[0.0,0.94],\"rangeslider\":{\"visible\":false},\"gridcolor\":\"#1f292f\",\"nticks\":5},\"yaxis\":{\"anchor\":\"x\",\"domain\":[0.0,1.0],\"gridcolor\":\"#1f292f\"},\"yaxis2\":{\"anchor\":\"x\",\"overlaying\":\"y\",\"side\":\"right\",\"gridcolor\":\"#1f292f\"},\"margin\":{\"l\":10,\"r\":10,\"b\":10,\"t\":10},\"font\":{\"size\":8,\"color\":\"#e1e1e1\"},\"width\":900,\"height\":400,\"paper_bgcolor\":\"#2c303c\",\"plot_bgcolor\":\"#2c303c\"},                        {\"responsive\": true}                    ).then(function(){\n",
       "                            \n",
       "var gd = document.getElementById('d9d6f126-77c4-4d7d-93ef-f36d563fdf90');\n",
       "var x = new MutationObserver(function (mutations, observer) {{\n",
       "        var display = window.getComputedStyle(gd).display;\n",
       "        if (!display || display === 'none') {{\n",
       "            console.log([gd, 'removed!']);\n",
       "            Plotly.purge(gd);\n",
       "            observer.disconnect();\n",
       "        }}\n",
       "}});\n",
       "\n",
       "// Listen for the removal of the full notebook cells\n",
       "var notebookContainer = gd.closest('#notebook-container');\n",
       "if (notebookContainer) {{\n",
       "    x.observe(notebookContainer, {childList: true});\n",
       "}}\n",
       "\n",
       "// Listen for the clearing of the current output cell\n",
       "var outputEl = gd.closest('.output');\n",
       "if (outputEl) {{\n",
       "    x.observe(outputEl, {childList: true});\n",
       "}}\n",
       "\n",
       "                        })                };                });            </script>        </div>"
      ]
     },
     "metadata": {},
     "output_type": "display_data"
    }
   ],
   "source": [
    "MARKER = '#0066FF'\n",
    "dfp = df_an.iloc[35200:35300]\n",
    "cp = CandlePlot(dfp, candles=True)\n",
    "df_temp = cp.df_plot[cp.df_plot.MORNING_STAR == True]\n",
    "cp.fig.add_trace(go.Candlestick(\n",
    "                x=df_temp.sTime,\n",
    "                open=df_temp.mid_o,\n",
    "                high=df_temp.mid_h,\n",
    "                low=df_temp.mid_l,\n",
    "                close=df_temp.mid_c,\n",
    "                line=dict(width=1), opacity=1,\n",
    "                increasing_fillcolor=MARKER,\n",
    "                decreasing_fillcolor=MARKER,\n",
    "                increasing_line_color=MARKER,  \n",
    "                decreasing_line_color=MARKER\n",
    "))\n",
    "\n",
    "cp.show_plot()"
   ]
  },
  {
   "cell_type": "code",
   "execution_count": null,
   "id": "832bda37-7964-4651-bb65-28645db69a15",
   "metadata": {},
   "outputs": [],
   "source": []
  }
 ],
 "metadata": {
  "kernelspec": {
   "display_name": "Python 3 (ipykernel)",
   "language": "python",
   "name": "python3"
  },
  "language_info": {
   "codemirror_mode": {
    "name": "ipython",
    "version": 3
   },
   "file_extension": ".py",
   "mimetype": "text/x-python",
   "name": "python",
   "nbconvert_exporter": "python",
   "pygments_lexer": "ipython3",
   "version": "3.11.0"
  }
 },
 "nbformat": 4,
 "nbformat_minor": 5
}
